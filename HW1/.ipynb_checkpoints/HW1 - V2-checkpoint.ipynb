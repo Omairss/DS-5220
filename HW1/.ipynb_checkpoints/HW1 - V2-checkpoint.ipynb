{
 "cells": [
  {
   "cell_type": "code",
   "execution_count": 1,
   "metadata": {},
   "outputs": [],
   "source": [
    "%matplotlib inline\n",
    "import matplotlib.pyplot as plt\n",
    "import numpy as np\n",
    "import random"
   ]
  },
  {
   "cell_type": "markdown",
   "metadata": {},
   "source": [
    "## 4a"
   ]
  },
  {
   "cell_type": "code",
   "execution_count": 4,
   "metadata": {},
   "outputs": [
    {
     "data": {
      "image/png": "[encoded data removed]",
      "text/plain": [
       "<matplotlib.figure.Figure at 0x7f01e9bcb208>"
      ]
     },
     "metadata": {},
     "output_type": "display_data"
    }
   ],
   "source": [
    "delta = 2\n",
    "huber = lambda e, delta: ((e/2)**2) if np.abs(e) <= delta else ((delta * np.abs(e)) - ((delta**2)/2))\n",
    "\n",
    "\n",
    "ax = plt.subplot(111)\n",
    "t1 = np.arange(-2.0, 2.0, 0.01)\n",
    "t2 = [huber(x, delta) for x in t1]\n",
    "\n",
    "plt.plot(t1, t1**2, label=\"Quadratic Loss\")\n",
    "plt.plot(t1, np.abs(t1), label=\"Mean Absolute Error\")\n",
    "plt.plot(t1, t2, label=\"Huber Error\")\n",
    "\n",
    "\n",
    "\n",
    "\n",
    "leg = plt.legend(loc='best', ncol=2, mode=\"expand\", shadow=False, fancybox=False)\n",
    "leg.get_frame().set_alpha(0.5)\n",
    "\n",
    "\n",
    "plt.show()"
   ]
  },
  {
   "cell_type": "markdown",
   "metadata": {},
   "source": [
    "## 4b"
   ]
  },
  {
   "cell_type": "code",
   "execution_count": 374,
   "metadata": {},
   "outputs": [],
   "source": [
    "def genData(numPoints, slope, intercept):\n",
    "    x = np.zeros(shape=(numPoints, 2))\n",
    "    y = np.zeros(shape=numPoints)\n",
    "    \n",
    "    x[:,0] = 1\n",
    "    x[:,1] = np.random.uniform(-2, 2, size = numPoints)\n",
    "    \n",
    "    for i in range(0, numPoints): y[i] = (x[i][1] * slope) + (intercept + np.random.normal(0,4))\n",
    "    \n",
    "    return x, y\n",
    "\n"
   ]
  },
  {
   "cell_type": "code",
   "execution_count": 355,
   "metadata": {},
   "outputs": [],
   "source": [
    "def gradientDescent(x, y, theta, alpha, m, numIterations, loss_type):\n",
    "    xTrans = x.transpose()\n",
    "    for i in range(0, numIterations):\n",
    "        \n",
    "        hypothesis = np.dot(x, theta)\n",
    "        loss = hypothesis - y\n",
    "\n",
    "        if loss_type == 'quadratic':\n",
    "            cost = np.sum(loss ** 2) / (2 * m)\n",
    "        \n",
    "        elif loss_type == 'mean_absolute':\n",
    "            cost = np.sum(loss) / (2 * m)\n",
    "            \n",
    "        elif loss_type == 'huber':\n",
    "            \n",
    "            delta = 2\n",
    "            huber = lambda e, delta: ((e/2)**2) if np.abs(e) <= delta else ((delta * np.abs(e)) - ((delta**2)/2))\n",
    "            cost = huber(np.sum(loss), delta) / (2 * m)\n",
    "        \n",
    "        print(\"Iteration %d | Cost: %f\" % (i, cost))\n",
    "        \n",
    "        gradient = np.dot(xTrans, loss) / m #Partial derivative\n",
    "        theta = theta - alpha * gradient\n",
    "        \n",
    "        print ('gradient' + str(gradient))\n",
    "    \n",
    "    return theta\n"
   ]
  },
  {
   "cell_type": "markdown",
   "metadata": {},
   "source": [
    "## 5A"
   ]
  },
  {
   "cell_type": "code",
   "execution_count": 258,
   "metadata": {},
   "outputs": [],
   "source": [
    "from numpy import array, dot, transpose\n",
    "from numpy.linalg import inv\n",
    "\n",
    "def analytical_linear_regression(x_train, y_train):\n",
    "    \n",
    "    X = np.array(x_train)\n",
    "    y = np.array(y_train)\n",
    "    \n",
    "    Xt = transpose(X)\n",
    "    product = dot(Xt, X)\n",
    "    theInverse = inv(product)\n",
    "    w = dot(dot(theInverse, Xt), y)\n",
    "    \n",
    "    return w"
   ]
  },
  {
   "cell_type": "code",
   "execution_count": 259,
   "metadata": {},
   "outputs": [
    {
     "data": {
      "text/plain": [
       "array([-20.50798731,   5.16638142])"
      ]
     },
     "execution_count": 259,
     "metadata": {},
     "output_type": "execute_result"
    }
   ],
   "source": [
    "analytical_linear_regression(x,y)"
   ]
  },
  {
   "cell_type": "code",
   "execution_count": 335,
   "metadata": {},
   "outputs": [],
   "source": [
    "def gradientDescentSto(x, y, theta, alpha, m, numIterations, loss_type):\n",
    "\n",
    "    xTrans = x.transpose()\n",
    "    for i0 in range(0, numIterations):\n",
    "        \n",
    "        #hypothesis = np.dot(x, theta)\n",
    "        \n",
    "        for i in range(m):\n",
    "            \n",
    "            hypothesis = x[i][0] * theta[0] + x[i][1]*theta[1]\n",
    "            loss = hypothesis - y[i]\n",
    "            \n",
    "            #print ('loss' + str(hypothesis - y[i]))\n",
    "            #cost = (loss ** 2) / (2 * m)\n",
    "\n",
    "            #print(\"Iteration %d | Cost: %f\" % (i0, cost))\n",
    "\n",
    "            #gradient = np.dot(xTrans, loss) / m #Partial derivative\n",
    "            \n",
    "            gradient1 = x[i][0] * loss\n",
    "            gradient0 = x[i][1] * loss\n",
    "            \n",
    "           \n",
    "            theta[1] = theta[1] - alpha * gradient0\n",
    "            theta[0] = theta[0] - alpha * gradient1\n",
    "    \n",
    "    return theta"
   ]
  },
  {
   "cell_type": "code",
   "execution_count": 368,
   "metadata": {},
   "outputs": [],
   "source": [
    "def gradientDescentSto(x, y, theta, alpha, m, numIterations, loss_type, delta=2):\n",
    "\n",
    "    xTrans = x.transpose()\n",
    "    for i0 in range(0, numIterations):\n",
    "        \n",
    "        #hypothesis = np.dot(x, theta)\n",
    "        \n",
    "        for i in range(m):\n",
    "            \n",
    "            hypothesis = x[i][0] * theta[0] + x[i][1]*theta[1]\n",
    "            loss = hypothesis - y[i]\n",
    "            \n",
    "            #print ('loss' + str(hypothesis - y[i]))\n",
    "            #cost = (loss ** 2) / (2 * m)\n",
    "\n",
    "            #print(\"Iteration %d | Cost: %f\" % (i0, cost))\n",
    "\n",
    "            #gradient = np.dot(xTrans, loss) / m #Partial derivative\n",
    "            \n",
    "            if loss_type == 'mean_absolute': loss = 1 if loss >= 0 else -1 \n",
    "                \n",
    "            if loss_type == 'huber': \n",
    "                \n",
    "                if loss < -delta: loss = -delta\n",
    "                elif -delta <= loss and loss <= delta: loss = loss \n",
    "                elif delta < loss: loss = delta\n",
    "            \n",
    "            gradient1 = x[i][0] * loss\n",
    "            gradient0 = x[i][1] * loss\n",
    "            \n",
    "           \n",
    "            theta[1] = theta[1] - alpha * gradient0\n",
    "            theta[0] = theta[0] - alpha * gradient1\n",
    "    \n",
    "    return theta"
   ]
  },
  {
   "cell_type": "markdown",
   "metadata": {},
   "source": [
    "## Calling and Plotting"
   ]
  },
  {
   "cell_type": "code",
   "execution_count": 373,
   "metadata": {},
   "outputs": [
    {
     "name": "stdout",
     "output_type": "stream",
     "text": [
      "[2.51361255 3.25376786]\n"
     ]
    }
   ],
   "source": [
    "x, y = genData(100, 3, 2)\n",
    "m, n = np.shape(x)\n",
    "numIterations= 5000\n",
    "alpha = 0.0001\n",
    "theta = np.ones(n)\n",
    "#theta = gradientDescent(x, y, theta, alpha, m, numIterations, 'mean_absolute')\n",
    "#theta = gradientDescentSto(x, y, theta, alpha, m, numIterations, 'huber')\n",
    "theta = gradientDescentSto(x, y, theta, alpha, m, numIterations, 'huber', 7)\n",
    "\n",
    "\n",
    "print(theta)"
   ]
  },
  {
   "cell_type": "code",
   "execution_count": 360,
   "metadata": {
    "scrolled": true
   },
   "outputs": [
    {
     "data": {
      "image/png": "[encoded data removed]",
      "text/plain": [
       "<matplotlib.figure.Figure at 0x7f01e8218da0>"
      ]
     },
     "metadata": {},
     "output_type": "display_data"
    }
   ],
   "source": [
    "hypothesis = lambda x: x * theta[1] + theta[0]\n",
    "#hypothesis = lambda x: x * theta[0] + theta[1]\n",
    "plt.plot([i for i in range(-10,10)],[hypothesis(i) for i in range(-10,10)])\n",
    "plt.scatter([i[1] for i in x], y, s=10)\n",
    "#plt.ylim(-10,10)\n",
    "#plt.xlim(-5,5)\n",
    "plt.show()\n"
   ]
  },
  {
   "cell_type": "markdown",
   "metadata": {},
   "source": [
    "## Call 1000 times and histogram\n",
    "\n",
    "\n",
    "b- closed form solution\n",
    "squared loss gradient descent\n",
    "stoch. GD\n",
    "\n",
    "d- closed form\n",
    "MeanAbsError gradient descent\n",
    "huber loss with GD"
   ]
  },
  {
   "cell_type": "code",
   "execution_count": 492,
   "metadata": {
    "scrolled": true
   },
   "outputs": [],
   "source": [
    "thetas_huber = []\n",
    "thetas_mean_abs = []\n",
    "thetas_analytical = []\n",
    "\n",
    "for i in range(100):\n",
    "    #print (i)\n",
    "    x, y = genData(100, 3, 2)\n",
    "    m, n = np.shape(x)\n",
    "    numIterations= 5000\n",
    "    alpha = 0.0001\n",
    "    thetas_huber.append(gradientDescentSto(x, y, np.ones(n), alpha, m, numIterations, 'huber', 7))\n",
    "    thetas_mean_abs.append(gradientDescentSto(x, y, np.ones(n), alpha, m, numIterations, 'mean_absolute'))\n",
    "    thetas_analytical.append(analytical_linear_regression(x,y))"
   ]
  },
  {
   "cell_type": "code",
   "execution_count": 411,
   "metadata": {},
   "outputs": [
    {
     "data": {
      "image/png": "[encoded data removed]",
      "text/plain": [
       "<matplotlib.figure.Figure at 0x7f01e3182940>"
      ]
     },
     "metadata": {},
     "output_type": "display_data"
    }
   ],
   "source": [
    "plt.hist(np.array(thetas_huber)[:,1], label = 'huber')\n",
    "plt.hist(np.array(thetas_mean_abs)[:,1], label = 'mean', alpha = 0.5)\n",
    "plt.hist(np.array(thetas_analytical)[:,1], label = 'analy', alpha = 0.5)\n",
    "plt.plot([3 for i in range (25)], [i for i in range(25)])\n",
    "#plt.plot(x,3,linestyle='solid')\n",
    "plt.legend()\n",
    "plt.show()"
   ]
  },
  {
   "cell_type": "code",
   "execution_count": 412,
   "metadata": {},
   "outputs": [
    {
     "data": {
      "image/png": "[encoded data removed]",
      "text/plain": [
       "<matplotlib.figure.Figure at 0x7f01e801f1d0>"
      ]
     },
     "metadata": {},
     "output_type": "display_data"
    }
   ],
   "source": [
    "plt.hist(np.array(thetas_huber)[:,0], label = 'huber')\n",
    "plt.hist(np.array(thetas_mean_abs)[:,0], label = 'mean', alpha = 0.5)\n",
    "plt.hist(np.array(thetas_analytical)[:,0], label = 'analy', alpha = 0.5)\n",
    "plt.plot([2 for i in range (25)], [i for i in range(25)])\n",
    "\n",
    "\n",
    "plt.legend()\n",
    "plt.show()"
   ]
  },
  {
   "cell_type": "code",
   "execution_count": 486,
   "metadata": {},
   "outputs": [
    {
     "data": {
      "text/plain": [
       "array([[ 1.        ,  1.40664088],\n",
       "       [ 1.        ,  1.81175379],\n",
       "       [ 1.        , -0.26609268],\n",
       "       [ 1.        ,  0.57753574],\n",
       "       [ 1.        ,  0.41188323],\n",
       "       [ 1.        ,  0.03637198],\n",
       "       [ 1.        ,  1.19956399],\n",
       "       [ 1.        , -0.83287292],\n",
       "       [ 1.        ,  0.7396422 ],\n",
       "       [ 1.        , -0.43608485]])"
      ]
     },
     "execution_count": 486,
     "metadata": {},
     "output_type": "execute_result"
    }
   ],
   "source": [
    "outlier_indices = [int(i) for i in np.random.uniform(0,100, size = 10)]\n",
    "outlier_indices_indices = [int(i) for i in np.random.uniform(0,10, size = 5)]\n",
    "x[outlier_indices]\n"
   ]
  },
  {
   "cell_type": "code",
   "execution_count": 488,
   "metadata": {},
   "outputs": [],
   "source": [
    "positive_indices = [outlier_indices[i] for i in outlier_indices_indices]\n",
    "negative_indices = [outlier_indices[i] for i in [outlier_indices.index(i) for i in outlier_indices if outlier_indices.index(i) not in outlier_indices_indices]]"
   ]
  },
  {
   "cell_type": "code",
   "execution_count": 489,
   "metadata": {},
   "outputs": [],
   "source": [
    "for i in positive_indices: x[i] += 0.5*x[i]\n",
    "for i in negative_indices: x[i] -= 0.5*x[i]"
   ]
  },
  {
   "cell_type": "code",
   "execution_count": 493,
   "metadata": {},
   "outputs": [
    {
     "data": {
      "image/png": "[encoded data removed]",
      "text/plain": [
       "<matplotlib.figure.Figure at 0x7f01e20e0ba8>"
      ]
     },
     "metadata": {},
     "output_type": "display_data"
    }
   ],
   "source": [
    "plt.hist(np.array(thetas_huber)[:,1], label = 'huber')\n",
    "plt.hist(np.array(thetas_mean_abs)[:,1], label = 'mean', alpha = 0.5)\n",
    "plt.hist(np.array(thetas_analytical)[:,1], label = 'analy', alpha = 0.5)\n",
    "plt.plot([3 for i in range (25)], [i for i in range(25)])\n",
    "#plt.plot(x,3,linestyle='solid')\n",
    "plt.legend()\n",
    "plt.show()"
   ]
  },
  {
   "cell_type": "code",
   "execution_count": 494,
   "metadata": {},
   "outputs": [
    {
     "data": {
      "image/png": "[encoded data removed]",
      "text/plain": [
       "<matplotlib.figure.Figure at 0x7f01e2110710>"
      ]
     },
     "metadata": {},
     "output_type": "display_data"
    }
   ],
   "source": [
    "plt.hist(np.array(thetas_huber)[:,0], label = 'huber')\n",
    "plt.hist(np.array(thetas_mean_abs)[:,0], label = 'mean', alpha = 0.5)\n",
    "plt.hist(np.array(thetas_analytical)[:,0], label = 'analy', alpha = 0.5)\n",
    "plt.plot([2 for i in range (25)], [i for i in range(25)])\n",
    "\n",
    "\n",
    "plt.legend()\n",
    "plt.show()"
   ]
  },
  {
   "cell_type": "code",
   "execution_count": null,
   "metadata": {},
   "outputs": [],
   "source": []
  }
 ],
 "metadata": {
  "kernelspec": {
   "display_name": "Python 3",
   "language": "python",
   "name": "python3"
  },
  "language_info": {
   "codemirror_mode": {
    "name": "ipython",
    "version": 3
   },
   "file_extension": ".py",
   "mimetype": "text/x-python",
   "name": "python",
   "nbconvert_exporter": "python",
   "pygments_lexer": "ipython3",
   "version": "3.6.4"
  }
 },
 "nbformat": 4,
 "nbformat_minor": 2
}
