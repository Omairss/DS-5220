{
 "cells": [
  {
   "cell_type": "code",
   "execution_count": 105,
   "metadata": {},
   "outputs": [],
   "source": [
    "%matplotlib inline\n",
    "import matplotlib.pyplot as plt\n",
    "import numpy as np\n",
    "import random\n",
    "from sklearn import linear_model\n",
    "np.set_printoptions(suppress=True)"
   ]
  },
  {
   "cell_type": "code",
   "execution_count": 286,
   "metadata": {},
   "outputs": [],
   "source": [
    "def genData(numPoints, slope, intercept):\n",
    "    x = np.zeros(shape=(numPoints, 2))\n",
    "    y = np.zeros(shape=numPoints)\n",
    "    \n",
    "    x[:,0] = 1\n",
    "    x[:,1] = np.random.uniform(-2, 2, size = numPoints)\n",
    "    \n",
    "    for i in range(0, numPoints): y[i] = (x[i][1] * slope) + (intercept + np.random.normal(0,4))\n",
    "    \n",
    "    return x, y"
   ]
  },
  {
   "cell_type": "code",
   "execution_count": 287,
   "metadata": {},
   "outputs": [],
   "source": [
    "x, y = genData(100, 3, 2)"
   ]
  },
  {
   "cell_type": "markdown",
   "metadata": {},
   "source": [
    "## 4A (i): Analytical Least Sqaures"
   ]
  },
  {
   "cell_type": "code",
   "execution_count": 288,
   "metadata": {},
   "outputs": [],
   "source": [
    "def analytical_linear_regression_ridge(x_train, y_train, lamb):\n",
    "    \n",
    "    X = np.array(x_train)\n",
    "    y = np.array(y_train)\n",
    "    \n",
    "    Xt = transpose(X)\n",
    "    product = dot(Xt, X) + lamb\n",
    "    #print (product)\n",
    "    theInverse = inv(product)\n",
    "    w = dot(dot(theInverse, Xt), y)\n",
    "    \n",
    "    return w"
   ]
  },
  {
   "cell_type": "code",
   "execution_count": 289,
   "metadata": {},
   "outputs": [
    {
     "data": {
      "text/plain": [
       "array([1.90753011, 2.75803336])"
      ]
     },
     "execution_count": 289,
     "metadata": {},
     "output_type": "execute_result"
    }
   ],
   "source": [
    "\n",
    "analytical_linear_regression(x,y)"
   ]
  },
  {
   "cell_type": "markdown",
   "metadata": {},
   "source": [
    "## 4A (ii): Analytical Ridge Regression"
   ]
  },
  {
   "cell_type": "code",
   "execution_count": 290,
   "metadata": {},
   "outputs": [],
   "source": [
    "def analytical_linear_regression_ridge(x_train, y_train, lamb):\n",
    "    \n",
    "    X = np.array(x_train)\n",
    "    y = np.array(y_train)\n",
    "    \n",
    "    Xt = transpose(X)\n",
    "    product = dot(Xt, X) + lamb\n",
    "    #print (product)\n",
    "    theInverse = inv(product)\n",
    "    w = dot(dot(theInverse, Xt), y)\n",
    "    \n",
    "    return w"
   ]
  },
  {
   "cell_type": "code",
   "execution_count": 291,
   "metadata": {},
   "outputs": [
    {
     "data": {
      "text/plain": [
       "array([0.73021   , 1.89911006])"
      ]
     },
     "execution_count": 291,
     "metadata": {},
     "output_type": "execute_result"
    }
   ],
   "source": [
    "analytical_linear_regression_ridge(x, y, 50)"
   ]
  },
  {
   "cell_type": "markdown",
   "metadata": {},
   "source": [
    "## 4A (iii) Batch GD Lasso"
   ]
  },
  {
   "cell_type": "code",
   "execution_count": 205,
   "metadata": {},
   "outputs": [],
   "source": [
    "def gradientDescentLasso(x, y, theta, alpha, m, numIterations, lamb):\n",
    "    \n",
    "    xTrans = x.transpose()\n",
    "    for i in range(0, numIterations):\n",
    "        \n",
    "        #hypothesis = np.dot(x, theta)\n",
    "            \n",
    "        #loss = hypothesis - y\n",
    "     \n",
    "        cost = (np.sum((np.dot(x, theta) - y) ** 2) / (2 * m)) + np.sum(theta) * lamb\n",
    "        \n",
    "        #print(\"Iteration %d | Cost: %f\" % (i, cost))\n",
    "        \n",
    "        gradient = (np.dot(xTrans, np.dot(x, theta) - y)/m) + (lamb * np.sign(theta))#Partial derivative        \n",
    "        theta = theta - alpha * gradient\n",
    "        \n",
    "        #print ('gradient' + str(gradient))\n",
    "        #print ('theta' + str(theta))\n",
    "    \n",
    "    return theta"
   ]
  },
  {
   "cell_type": "code",
   "execution_count": 268,
   "metadata": {},
   "outputs": [],
   "source": [
    "## Remove\n",
    "def simulate_data(n, m, c):\n",
    "    x = np.zeros(shape=(n, 6))\n",
    "    x[:,0] = 1\n",
    "    X = np.random.uniform(-2, 2, size = n)\n",
    "    x[:,1] = X\n",
    "    x[:,2] = X ** 2\n",
    "    x[:,3] = X ** 3\n",
    "    x[:,4] = X ** 4\n",
    "    x[:,5] = X ** 5\n",
    "    y = np.zeros(shape=n)\n",
    "    for i in range(n):\n",
    "        y[i] = (x[i][1] * m) + (c + np.random.normal(0,4))\n",
    "    return x, y\n",
    "\n",
    "\n",
    "x, y = simulate_data(50, -12, -3)\n",
    "m, n = np.shape(x)\n",
    "#n = 2000\n",
    "alpha = 0.01\n",
    "theta = np.ones(n)"
   ]
  },
  {
   "cell_type": "code",
   "execution_count": 275,
   "metadata": {
    "scrolled": true
   },
   "outputs": [
    {
     "data": {
      "image/png": "[encoded data removed]",
      "text/plain": [
       "<matplotlib.figure.Figure at 0x7fb63cc78c50>"
      ]
     },
     "metadata": {},
     "output_type": "display_data"
    },
    {
     "name": "stdout",
     "output_type": "stream",
     "text": [
      "[ -3.78096861 -11.29494318  -0.01027282  -1.8547143   -0.05883368\n",
      "   0.44333835]\n"
     ]
    }
   ],
   "source": [
    "#x, y = genData(100, -3, 2)\n",
    "m, n = np.shape(x) \n",
    "\n",
    "theta = gradientDescentLasso(x, y, np.ones(n), 0.01, m, 100000, 0)\n",
    "hypothesis = lambda x: x * theta[1] + theta[0]\n",
    "plt.plot([i for i in range(-10,10)],[hypothesis(i) for i in range(-10,10)])\n",
    "plt.scatter([i[1] for i in x], y, s=10)\n",
    "plt.show()\n",
    "#print([i if (i > 0.09) or (i < -0.09) else 0 for i in theta])\n",
    "print (theta)"
   ]
  },
  {
   "cell_type": "code",
   "execution_count": 270,
   "metadata": {},
   "outputs": [
    {
     "name": "stderr",
     "output_type": "stream",
     "text": [
      "/opt/conda/lib/python3.6/site-packages/ipykernel_launcher.py:2: UserWarning: With alpha=0, this algorithm does not converge well. You are advised to use the LinearRegression estimator\n",
      "  \n",
      "/opt/conda/lib/python3.6/site-packages/sklearn/linear_model/coordinate_descent.py:477: UserWarning: Coordinate descent with no regularization may lead to unexpected results and is discouraged.\n",
      "  positive)\n",
      "/opt/conda/lib/python3.6/site-packages/sklearn/linear_model/coordinate_descent.py:491: ConvergenceWarning: Objective did not converge. You might want to increase the number of iterations. Fitting data with very small alpha may cause precision problems.\n",
      "  ConvergenceWarning)\n"
     ]
    },
    {
     "data": {
      "text/plain": [
       "array([  0.        , -11.29494318,  -0.01027282,  -1.85471429,\n",
       "        -0.05883368,   0.44333835])"
      ]
     },
     "execution_count": 270,
     "metadata": {},
     "output_type": "execute_result"
    }
   ],
   "source": [
    "lasso_test = sklearn.linear_model.Lasso(alpha=0, max_iter=100000)\n",
    "lasso_test.fit(x,y).coef_"
   ]
  },
  {
   "cell_type": "code",
   "execution_count": 271,
   "metadata": {},
   "outputs": [
    {
     "name": "stderr",
     "output_type": "stream",
     "text": [
      "/opt/conda/lib/python3.6/site-packages/ipykernel_launcher.py:1: UserWarning: With alpha=0, this algorithm does not converge well. You are advised to use the LinearRegression estimator\n",
      "  \"\"\"Entry point for launching an IPython kernel.\n",
      "/opt/conda/lib/python3.6/site-packages/sklearn/linear_model/coordinate_descent.py:477: UserWarning: Coordinate descent with no regularization may lead to unexpected results and is discouraged.\n",
      "  positive)\n",
      "/opt/conda/lib/python3.6/site-packages/sklearn/linear_model/coordinate_descent.py:491: ConvergenceWarning: Objective did not converge. You might want to increase the number of iterations. Fitting data with very small alpha may cause precision problems.\n",
      "  ConvergenceWarning)\n"
     ]
    },
    {
     "data": {
      "text/plain": [
       "-3.7809686146153556"
      ]
     },
     "execution_count": 271,
     "metadata": {},
     "output_type": "execute_result"
    }
   ],
   "source": [
    "lasso_test.fit(x,y).intercept_"
   ]
  },
  {
   "cell_type": "markdown",
   "metadata": {},
   "source": [
    "## 4B"
   ]
  },
  {
   "cell_type": "code",
   "execution_count": 315,
   "metadata": {},
   "outputs": [],
   "source": [
    "x, y = genData(100, 3, 2)\n",
    "\n",
    "def add_poly(x, degree):\n",
    "\n",
    "    for i in range(2, degree+1):\n",
    "        \n",
    "        #x[:, degree] = x[:,1] ** degree\n",
    "        x = np.column_stack((x,x[:,1] ** degree))\n",
    "    \n",
    "    return x\n",
    "\n",
    "x = add_poly(x,6)"
   ]
  },
  {
   "cell_type": "code",
   "execution_count": 317,
   "metadata": {},
   "outputs": [
    {
     "data": {
      "text/plain": [
       "array([ 0.54620809,  5.67510331,  0.00208892, 46.45474169,  8.4107665 ,\n",
       "        3.71374812,  4.69574874,  0.00000003, 51.67484215,  2.85553372,\n",
       "       36.84605207, 62.51589453,  5.12436122,  0.01393332,  0.00088743,\n",
       "        0.09447523, 58.14031091,  2.46300002, 13.45110614,  0.71778188,\n",
       "       32.59055609, 21.81255632,  0.08876318,  0.13167269,  0.00060988,\n",
       "       22.02947479, 25.74202724,  0.09177187,  0.55967254,  2.54177613,\n",
       "        0.00660694,  1.52217067,  1.13470367,  0.17733393,  0.03821555,\n",
       "        0.29412516,  0.88328174,  0.        ,  0.00799137,  0.43457887,\n",
       "        0.05787101,  0.05746448,  5.09516771, 29.33878947,  0.00000951,\n",
       "        0.22058866,  1.91866359,  0.09522186,  0.69500997,  0.08493405,\n",
       "        2.32199267,  4.18535032,  0.47371403,  0.00503931,  4.28560587,\n",
       "        2.38005482, 32.55269421,  0.11958363, 23.37075018,  8.86872039,\n",
       "        0.00020943,  1.73608301, 22.10714277,  2.17134669,  0.04401492,\n",
       "        1.80032099,  2.93844714,  0.68532453,  0.48358136,  1.24093446,\n",
       "        0.02185535, 38.30287821,  0.01979299,  0.43459471,  0.        ,\n",
       "        0.08575308, 14.97791094, 23.21272256, 10.46781008, 11.24575154,\n",
       "        4.23335148,  0.14960069,  0.04146844, 25.31873789,  0.        ,\n",
       "        0.        ,  0.00094193,  3.46578509,  0.59608397,  1.71373468,\n",
       "        0.22044516,  0.00000058,  0.00000058,  2.64574271,  5.40870939,\n",
       "        0.00029199,  4.98659941,  1.24804332, 22.22691371,  0.00864208])"
      ]
     },
     "execution_count": 317,
     "metadata": {},
     "output_type": "execute_result"
    }
   ],
   "source": [
    "x[:,3]"
   ]
  },
  {
   "cell_type": "markdown",
   "metadata": {},
   "source": [
    "## 4B (i)"
   ]
  },
  {
   "cell_type": "code",
   "execution_count": null,
   "metadata": {},
   "outputs": [],
   "source": [
    "thetas_lasso = []\n",
    "thetas_ridge = []\n",
    "thetas_analytical = []\n",
    "\n",
    "for i in range(100):\n",
    "\n",
    "    x, y = genData(100, 3, 2)\n",
    "    m, n = np.shape(x)\n",
    "    numIterations= 5000\n",
    "    alpha = 0.001\n",
    "    \n",
    "    thetas_lasso.append(gradientDescentSto(x, y, np.ones(n), alpha, m, numIterations, 'quadratic'))\n",
    "    thetas_ridge.append(gradientDescent(x, y, np.ones(n), alpha, m, numIterations, 'quadratic'))\n",
    "    thetas_analytical.append(analytical_linear_regression(x,y))"
   ]
  },
  {
   "cell_type": "markdown",
   "metadata": {},
   "source": [
    "## 4B (ii)"
   ]
  },
  {
   "cell_type": "code",
   "execution_count": null,
   "metadata": {},
   "outputs": [],
   "source": []
  },
  {
   "cell_type": "markdown",
   "metadata": {},
   "source": [
    "## 4B (iii)"
   ]
  },
  {
   "cell_type": "code",
   "execution_count": null,
   "metadata": {},
   "outputs": [],
   "source": []
  }
 ],
 "metadata": {
  "kernelspec": {
   "display_name": "Python 3",
   "language": "python",
   "name": "python3"
  },
  "language_info": {
   "codemirror_mode": {
    "name": "ipython",
    "version": 3
   },
   "file_extension": ".py",
   "mimetype": "text/x-python",
   "name": "python",
   "nbconvert_exporter": "python",
   "pygments_lexer": "ipython3",
   "version": "3.6.4"
  }
 },
 "nbformat": 4,
 "nbformat_minor": 2
}
