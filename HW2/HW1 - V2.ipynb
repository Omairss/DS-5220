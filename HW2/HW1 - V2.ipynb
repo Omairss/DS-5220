{
 "cells": [
  {
   "cell_type": "code",
   "execution_count": 4,
   "metadata": {},
   "outputs": [],
   "source": [
    "%matplotlib inline\n",
    "import matplotlib.pyplot as plt\n",
    "import numpy as np\n",
    "import random"
   ]
  },
  {
   "cell_type": "markdown",
   "metadata": {},
   "source": [
    "## 4a"
   ]
  },
  {
   "cell_type": "code",
   "execution_count": 213,
   "metadata": {},
   "outputs": [
    {
     "data": {
      "image/png": "[encoded data removed]",
      "text/plain": [
       "<matplotlib.figure.Figure at 0x7f951ae9bc50>"
      ]
     },
     "metadata": {},
     "output_type": "display_data"
    }
   ],
   "source": [
    "delta = 3\n",
    "huber = lambda e, delta: ((e**2)/2) if np.abs(e) <= delta else ((delta * np.abs(e)) - ((delta**2)/2))\n",
    "\n",
    "\n",
    "ax = plt.subplot(111)\n",
    "t1 = np.arange(-14.0, 14.0, 0.01)\n",
    "\n",
    "\n",
    "t2 = [huber(x, delta) for x in t1]\n",
    "\n",
    "plt.plot(t1, t1**2, label=\"Quadratic Loss\")\n",
    "plt.plot(t1, np.abs(t1), label=\"Mean Absolute Error\")\n",
    "plt.plot(t1, [huber(x, 3) for x in t1], label=\"Huber Error, Delta 3\")\n",
    "plt.plot(t1, [huber(x, 7) for x in t1], label=\"Huber Error, Delta 7\")\n",
    "\n",
    "leg = plt.legend(loc='best', ncol=2, mode=\"expand\", shadow=False, fancybox=False)\n",
    "leg.get_frame().set_alpha(0.5)\n",
    "\n",
    "\n",
    "plt.show()\n",
    "# plot second time"
   ]
  },
  {
   "cell_type": "markdown",
   "metadata": {},
   "source": [
    "### Relative advantages and disadvantages of loss functions for linear regression.\n",
    "\n",
    "Given the plots and thier mathematical equations, it appears that Mean Absolute Error is less senstive to outliers than Quadratic Loss. A square of a single large outlier might be enough to alter our weights in a significant way. Therefore in noisy datasets with alrge outliers, it appears that MAE is a better choice. However, since mean absolute error doesn't reduce the slope as it approaches optima, it might be more sentive to large learning rates and might never reach an optima.\n",
    "\n",
    "Huber Loss on the other hand is a good tradeoff between the above two loss functions. It is linear at large loss values allowing it to be robust to outliers, while employing a nice curvature with a reducing slope as it approaches optima. The catch with huber loss, however, is that we may not neccesarily know the delta beforehand."
   ]
  },
  {
   "cell_type": "markdown",
   "metadata": {},
   "source": [
    "## 4b"
   ]
  },
  {
   "cell_type": "code",
   "execution_count": 2,
   "metadata": {},
   "outputs": [],
   "source": [
    "def genData(numPoints, slope, intercept):\n",
    "    x = np.zeros(shape=(numPoints, 2))\n",
    "    y = np.zeros(shape=numPoints)\n",
    "    \n",
    "    x[:,0] = 1\n",
    "    x[:,1] = np.random.uniform(-2, 2, size = numPoints)\n",
    "    \n",
    "    for i in range(0, numPoints): y[i] = (x[i][1] * slope) + (intercept + np.random.normal(0,4))\n",
    "    \n",
    "    return x, y\n",
    "\n"
   ]
  },
  {
   "cell_type": "code",
   "execution_count": 207,
   "metadata": {},
   "outputs": [],
   "source": [
    "def gradientDescent(x, y, theta, alpha, m, numIterations, loss_type):\n",
    "    \n",
    "    xTrans = x.transpose()\n",
    "    for i in range(0, numIterations):\n",
    "        \n",
    "        hypothesis = np.dot(x, theta)\n",
    "\n",
    "        if loss_type == 'quadratic':\n",
    "            \n",
    "            loss = hypothesis - y\n",
    "            cost = np.sum(loss ** 2) / (2 * m)\n",
    "        \n",
    "        elif loss_type == 'mean_absolute':\n",
    "            \n",
    "            loss = hypothesis - y\n",
    "\n",
    "            loss[loss>0] = 1\n",
    "            loss[loss<0] = -1\n",
    "            \n",
    "            cost = np.sum(loss) / (2 * m)\n",
    "            \n",
    "        elif loss_type == 'huber':\n",
    "            \n",
    "            delta = 2\n",
    "            huber = lambda e, delta: ((e/2)**2) if np.abs(e) <= delta else ((delta * np.abs(e)) - ((delta**2)/2))\n",
    "            loss = hypothesis - y\n",
    "            loss[abs(loss) <= delta] = loss[abs(loss) <= delta]\n",
    "            loss[abs(loss) > delta] = delta * np.sign(loss[abs(loss) > delta])\n",
    "            cost = huber(np.sum(loss), delta) / (2 * m)\n",
    "        \n",
    "        #print(\"\\n\\n\\nIteration %d | Cost: %f\" % (i, cost))\n",
    "        \n",
    "        gradient = np.dot(xTrans, loss) / m #Partial derivative        \n",
    "        theta = theta - alpha * gradient\n",
    "        \n",
    "        #print ('gradient' + str(gradient))\n",
    "        #print ('theta' + str(theta))\n",
    "    \n",
    "    return theta"
   ]
  },
  {
   "cell_type": "markdown",
   "metadata": {},
   "source": [
    "## 5A"
   ]
  },
  {
   "cell_type": "code",
   "execution_count": 221,
   "metadata": {},
   "outputs": [],
   "source": [
    "#Referenced Stackoverflow for this\n",
    "\n",
    "from numpy import array, dot, transpose\n",
    "from numpy.linalg import inv\n",
    "\n",
    "def analytical_linear_regression(x_train, y_train):\n",
    "    \n",
    "    X = np.array(x_train)\n",
    "    y = np.array(y_train)\n",
    "    \n",
    "    Xt = transpose(X)\n",
    "    product = dot(Xt, X)\n",
    "    theInverse = inv(product)\n",
    "    w = dot(dot(theInverse, Xt), y)\n",
    "    \n",
    "    return w"
   ]
  },
  {
   "cell_type": "code",
   "execution_count": 222,
   "metadata": {},
   "outputs": [
    {
     "data": {
      "text/plain": [
       "array([3.23055664, 4.20992994])"
      ]
     },
     "execution_count": 222,
     "metadata": {},
     "output_type": "execute_result"
    }
   ],
   "source": [
    "analytical_linear_regression(x,y)"
   ]
  },
  {
   "cell_type": "code",
   "execution_count": 203,
   "metadata": {},
   "outputs": [],
   "source": [
    "def gradientDescentSto(x, y, theta, alpha, m, numIterations, loss_type, delta=2, conv=0.00000001):\n",
    "\n",
    "\n",
    "    xTrans = x.transpose()\n",
    "    count = 0\n",
    "    theta_prev = theta + delta + 1\n",
    "    \n",
    "    while (count < numIterations):\n",
    "            \n",
    "            count += 1\n",
    "\n",
    "            for i in range(m):\n",
    "\n",
    "                hypothesis = x[i][0] * theta[0] + x[i][1]*theta[1]\n",
    "\n",
    "                if loss_type == 'quadratic': loss = hypothesis - y[i]\n",
    "\n",
    "                if loss_type == 'mean_absolute': \n",
    "                    \n",
    "                    loss = hypothesis - y[i]\n",
    "                    loss = 1 if loss >= 0 else -1 \n",
    "\n",
    "                if loss_type == 'huber': \n",
    "\n",
    "                    loss = hypothesis - y[i]\n",
    "                    if loss < -delta: loss = -delta\n",
    "                    elif -delta <= loss and loss <= delta: loss = loss \n",
    "                    elif delta < loss: loss = delta\n",
    "\n",
    "                gradient1 = x[i][0] * loss\n",
    "                gradient0 = x[i][1] * loss\n",
    "\n",
    "                theta_prev = theta\n",
    "                theta[1] = theta[1] - alpha * gradient0\n",
    "                theta[0] = theta[0] - alpha * gradient1\n",
    "                                \n",
    "        \n",
    "    return theta"
   ]
  },
  {
   "cell_type": "markdown",
   "metadata": {},
   "source": [
    "## Calling and Plotting"
   ]
  },
  {
   "cell_type": "code",
   "execution_count": 206,
   "metadata": {
    "scrolled": true
   },
   "outputs": [
    {
     "data": {
      "image/png": "[encoded data removed]",
      "text/plain": [
       "<matplotlib.figure.Figure at 0x7f951af02630>"
      ]
     },
     "metadata": {},
     "output_type": "display_data"
    }
   ],
   "source": [
    "x, y = genData(100, 3, 2)\n",
    "m, n = np.shape(x) \n",
    "\n",
    "theta = gradientDescentSto(x, y, np.ones(n), alpha = 0.0001, m, numIterations = 5000, 'huber', 7)\n",
    "hypothesis = lambda x: x * theta[1] + theta[0]\n",
    "plt.plot([i for i in range(-10,10)],[hypothesis(i) for i in range(-10,10)])\n",
    "plt.scatter([i[1] for i in x], y, s=10)\n",
    "plt.show()\n"
   ]
  },
  {
   "cell_type": "markdown",
   "metadata": {},
   "source": [
    "## Call 1000 times and histogram for Huber, MAE and Analytical"
   ]
  },
  {
   "cell_type": "code",
   "execution_count": 492,
   "metadata": {
    "scrolled": true
   },
   "outputs": [],
   "source": [
    "thetas_huber = []\n",
    "thetas_mean_abs = []\n",
    "thetas_analytical = []\n",
    "\n",
    "for i in range(100):\n",
    "    #print (i)\n",
    "    x, y = genData(100, 3, 2)\n",
    "    m, n = np.shape(x)\n",
    "    numIterations= 5000\n",
    "    \n",
    "    alpha = 0.0001\n",
    "    thetas_huber.append(gradientDescentSto(x, y, np.ones(n), alpha, m, numIterations, 'huber', 7))\n",
    "    thetas_mean_abs.append(gradientDescentSto(x, y, np.ones(n), alpha, m, numIterations, 'mean_absolute'))\n",
    "    thetas_analytical.append(analytical_linear_regression(x,y))"
   ]
  },
  {
   "cell_type": "code",
   "execution_count": 411,
   "metadata": {},
   "outputs": [
    {
     "data": {
      "image/png": "[encoded data removed]",
      "text/plain": [
       "<matplotlib.figure.Figure at 0x7f01e3182940>"
      ]
     },
     "metadata": {},
     "output_type": "display_data"
    }
   ],
   "source": [
    "plt.hist(np.array(thetas_huber)[:,1], label = 'huber')\n",
    "plt.hist(np.array(thetas_mean_abs)[:,1], label = 'mean', alpha = 0.5)\n",
    "plt.hist(np.array(thetas_analytical)[:,1], label = 'analy', alpha = 0.5)\n",
    "\n",
    "plt.plot([3 for i in range (25)], [i for i in range(25)])\n",
    "#plt.plot(x,3,linestyle='solid')\n",
    "\n",
    "plt.legend()\n",
    "plt.show()"
   ]
  },
  {
   "cell_type": "code",
   "execution_count": 412,
   "metadata": {},
   "outputs": [
    {
     "data": {
      "image/png": "[encoded data removed]",
      "text/plain": [
       "<matplotlib.figure.Figure at 0x7f01e801f1d0>"
      ]
     },
     "metadata": {},
     "output_type": "display_data"
    }
   ],
   "source": [
    "plt.hist(np.array(thetas_huber)[:,0], label = 'huber')\n",
    "plt.hist(np.array(thetas_mean_abs)[:,0], label = 'mean', alpha = 0.5)\n",
    "plt.hist(np.array(thetas_analytical)[:,0], label = 'analy', alpha = 0.5)\n",
    "\n",
    "\n",
    "plt.plot([2 for i in range (25)], [i for i in range(25)])\n",
    "\n",
    "\n",
    "plt.legend()\n",
    "plt.show()"
   ]
  },
  {
   "cell_type": "markdown",
   "metadata": {},
   "source": [
    "## Choice of Loss Function Affecting Slope and Intercept\n",
    "\n",
    "As explained in 4a, Hubers loss function appears to have the highest frequecy of slope closest to 3 and itercept with analytical coming in a close second. However, since analytical solution is the actual solution to our simulated values, that should be used as benchmark. As such, Huber outperforms MAE in estimating the slope and intercept. "
   ]
  },
  {
   "cell_type": "markdown",
   "metadata": {},
   "source": [
    "## Call 1000 times and histogram for Batch, Stochastic and Analytical"
   ]
  },
  {
   "cell_type": "code",
   "execution_count": 228,
   "metadata": {},
   "outputs": [],
   "source": [
    "thetas_sto_quadratic = []\n",
    "thetas_batch_quadratic = []\n",
    "thetas_analytical = []\n",
    "\n",
    "for i in range(100):\n",
    "    #print (i)\n",
    "    x, y = genData(100, 3, 2)\n",
    "    m, n = np.shape(x)\n",
    "    numIterations= 5000\n",
    "    alpha = 0.001\n",
    "    \n",
    "    thetas_sto_quadratic.append(gradientDescentSto(x, y, np.ones(n), alpha, m, numIterations, 'quadratic'))\n",
    "    thetas_batch_quadratic.append(gradientDescent(x, y, np.ones(n), alpha, m, numIterations, 'quadratic'))\n",
    "    thetas_analytical.append(analytical_linear_regression(x,y))"
   ]
  },
  {
   "cell_type": "code",
   "execution_count": 233,
   "metadata": {},
   "outputs": [
    {
     "data": {
      "image/png": "[encoded data removed]",
      "text/plain": [
       "<matplotlib.figure.Figure at 0x7f951a034908>"
      ]
     },
     "metadata": {},
     "output_type": "display_data"
    }
   ],
   "source": [
    "plt.hist(np.array(thetas_quadratic)[:,0], label = 'Stochastic', alpha = 1)\n",
    "plt.hist(np.array(thetas_batch_quadratic)[:,0], label = 'Batch', alpha = 0.6)\n",
    "plt.hist(np.array(thetas_analytical)[:,0], label = 'Analytical', alpha = 0.3)\n",
    "\n",
    "\n",
    "\n",
    "plt.plot([2 for i in range (25)], [i for i in range(25)])\n",
    "\n",
    "\n",
    "plt.legend()\n",
    "plt.show()"
   ]
  },
  {
   "cell_type": "code",
   "execution_count": 242,
   "metadata": {},
   "outputs": [
    {
     "data": {
      "image/png": "[encoded data removed]",
      "text/plain": [
       "<matplotlib.figure.Figure at 0x7f951a0c7cc0>"
      ]
     },
     "metadata": {},
     "output_type": "display_data"
    }
   ],
   "source": [
    "plt.hist(np.array(thetas_quadratic)[:,1], label = 'Stochastic', alpha = 0.5)\n",
    "plt.hist(np.array(thetas_analytical)[:,1], label = 'Analytical', alpha = 0.7)\n",
    "plt.hist(np.array(thetas_batch_quadratic)[:,1], label = 'Batch', alpha = 1)\n",
    "\n",
    "\n",
    "\n",
    "plt.plot([3 for i in range (25)], [i for i in range(25)])\n",
    "\n",
    "\n",
    "plt.legend()\n",
    "plt.show()"
   ]
  },
  {
   "cell_type": "markdown",
   "metadata": {},
   "source": [
    "## Choice of Algorithm Affecting Slope and Intercept\n",
    "\n",
    "Using the analytical solution as the benchmark, it appears like batch almost exactly mimics the analytical solutions to the simulated data, outperforming stochastic in this case."
   ]
  },
  {
   "cell_type": "markdown",
   "metadata": {},
   "source": [
    "## Add Anomalies"
   ]
  },
  {
   "cell_type": "code",
   "execution_count": 486,
   "metadata": {},
   "outputs": [
    {
     "data": {
      "text/plain": [
       "array([[ 1.        ,  1.40664088],\n",
       "       [ 1.        ,  1.81175379],\n",
       "       [ 1.        , -0.26609268],\n",
       "       [ 1.        ,  0.57753574],\n",
       "       [ 1.        ,  0.41188323],\n",
       "       [ 1.        ,  0.03637198],\n",
       "       [ 1.        ,  1.19956399],\n",
       "       [ 1.        , -0.83287292],\n",
       "       [ 1.        ,  0.7396422 ],\n",
       "       [ 1.        , -0.43608485]])"
      ]
     },
     "execution_count": 486,
     "metadata": {},
     "output_type": "execute_result"
    }
   ],
   "source": [
    "outlier_indices = [int(i) for i in np.random.uniform(0,100, size = 10)]\n",
    "outlier_indices_indices = [int(i) for i in np.random.uniform(0,10, size = 5)]\n",
    "x[outlier_indices]\n"
   ]
  },
  {
   "cell_type": "code",
   "execution_count": 488,
   "metadata": {},
   "outputs": [],
   "source": [
    "positive_indices = [outlier_indices[i] for i in outlier_indices_indices]\n",
    "negative_indices = [outlier_indices[i] for i in [outlier_indices.index(i) for i in outlier_indices if outlier_indices.index(i) not in outlier_indices_indices]]"
   ]
  },
  {
   "cell_type": "code",
   "execution_count": 489,
   "metadata": {},
   "outputs": [],
   "source": [
    "for i in positive_indices: x[i] += 0.5*x[i]\n",
    "for i in negative_indices: x[i] -= 0.5*x[i]"
   ]
  },
  {
   "cell_type": "markdown",
   "metadata": {},
   "source": [
    "## Rerun 1000 times with anomalies"
   ]
  },
  {
   "cell_type": "code",
   "execution_count": 243,
   "metadata": {},
   "outputs": [],
   "source": [
    "thetas_quadratic = []\n",
    "thetas_quadratic.append(gradientDescentSto(x, y, np.ones(n), alpha, m, numIterations, 'quadratic'))\n",
    "\n"
   ]
  },
  {
   "cell_type": "code",
   "execution_count": 245,
   "metadata": {},
   "outputs": [],
   "source": [
    "thetas_huber = []\n",
    "thetas_mean_abs = []\n",
    "thetas_quadratic = []\n",
    "thetas_analytical = []\n",
    "\n",
    "for i in range(100):\n",
    "    #print (i)\n",
    "    x, y = genData(100, 3, 2)\n",
    "    m, n = np.shape(x)\n",
    "    numIterations= 5000\n",
    "    alpha = 0.0001\n",
    "    \n",
    "    thetas_huber.append(gradientDescentSto(x, y, np.ones(n), alpha, m, numIterations, 'huber', 7))\n",
    "    thetas_mean_abs.append(gradientDescentSto(x, y, np.ones(n), alpha, m, numIterations, 'mean_absolute'))\n",
    "    thetas_quadratic.append(gradientDescentSto(x, y, np.ones(n), alpha, m, numIterations, 'quadratic'))\n",
    "    thetas_analytical.append(analytical_linear_regression(x,y))"
   ]
  },
  {
   "cell_type": "code",
   "execution_count": 251,
   "metadata": {},
   "outputs": [
    {
     "data": {
      "image/png": "[encoded data removed]",
      "text/plain": [
       "<matplotlib.figure.Figure at 0x7f9519b8fe80>"
      ]
     },
     "metadata": {},
     "output_type": "display_data"
    }
   ],
   "source": [
    "plt.hist(np.array(thetas_huber)[:,1], label = 'huber')\n",
    "plt.hist(np.array(thetas_mean_abs)[:,1], label = 'mean', alpha = 0.5)\n",
    "plt.hist(np.array(thetas_quadratic)[:,1], label = 'quadratic', alpha = 0.5)\n",
    "\n",
    "\n",
    "plt.plot([3 for i in range (25)], [i for i in range(25)])\n",
    "\n",
    "\n",
    "#plt.plot(x,3,linestyle='solid')\n",
    "plt.legend()\n",
    "plt.show()"
   ]
  },
  {
   "cell_type": "code",
   "execution_count": 250,
   "metadata": {},
   "outputs": [
    {
     "data": {
      "image/png": "[encoded data removed]",
      "text/plain": [
       "<matplotlib.figure.Figure at 0x7f9519bb2400>"
      ]
     },
     "metadata": {},
     "output_type": "display_data"
    }
   ],
   "source": [
    "plt.hist(np.array(thetas_huber)[:,0], label = 'huber')\n",
    "plt.hist(np.array(thetas_mean_abs)[:,0], label = 'mean', alpha = 0.5)\n",
    "plt.hist(np.array(thetas_quadratic)[:,0], label = 'quadratic', alpha = 0.5)\n",
    "\n",
    "\n",
    "plt.plot([2 for i in range (25)], [i for i in range(25)])\n",
    "\n",
    "\n",
    "plt.legend()\n",
    "plt.show()"
   ]
  },
  {
   "cell_type": "markdown",
   "metadata": {},
   "source": [
    "## Choice of Loss in Noisy Data Affecting Slope and Intercept\n",
    "\n",
    "Using the analytical solution as the benchmark, huber and quadratic outperform MAE in this case. This could be since the anomalies built into the data are balanced by design and therefore don't skew the squared error in any particular direction.\n"
   ]
  },
  {
   "cell_type": "code",
   "execution_count": null,
   "metadata": {},
   "outputs": [],
   "source": []
  }
 ],
 "metadata": {
  "kernelspec": {
   "display_name": "Python 3",
   "language": "python",
   "name": "python3"
  },
  "language_info": {
   "codemirror_mode": {
    "name": "ipython",
    "version": 3
   },
   "file_extension": ".py",
   "mimetype": "text/x-python",
   "name": "python",
   "nbconvert_exporter": "python",
   "pygments_lexer": "ipython3",
   "version": "3.6.4"
  }
 },
 "nbformat": 4,
 "nbformat_minor": 2
}
