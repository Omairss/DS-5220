{
 "cells": [
  {
   "cell_type": "markdown",
   "metadata": {},
   "source": [
    "## Reference: Deeplearning.ai by Andrew Ng "
   ]
  },
  {
   "cell_type": "markdown",
   "metadata": {},
   "source": [
    "## A: The value of S1 would be 2 since there are 2 feature and S3 would be 1 since the output is binary."
   ]
  },
  {
   "cell_type": "code",
   "execution_count": 23,
   "metadata": {},
   "outputs": [],
   "source": [
    "from collections import deque\n",
    "import numpy as np\n",
    "import pandas as pd\n",
    "from sklearn.model_selection import train_test_split\n",
    "from sklearn.metrics import accuracy_score\n",
    "import matplotlib.pyplot as plt\n",
    "%matplotlib inline\n"
   ]
  },
  {
   "cell_type": "code",
   "execution_count": 2,
   "metadata": {},
   "outputs": [],
   "source": [
    "def get_cost_w_reg(A3, Y, parameters, lambd):\n",
    "  \n",
    "    m  = Y.shape[1]\n",
    "    W1 = parameters[\"W1\"]\n",
    "    W2 = parameters[\"W2\"]\n",
    "    \n",
    "    cross_entropy_cost     = np.squeeze(- 1 * np.sum(np.multiply(Y, np.log(A3)) \\\n",
    "                                                     + np.multiply((1 - Y), np.log(1 - A3)), axis=1) / Y.shape[1])\n",
    "    \n",
    "    L2_regularization_cost = lambd * (np.sum(np.square(W1)) + np.sum(np.square(W2))) / (2 * m) \n",
    "    \n",
    "    \n",
    "    return cross_entropy_cost + L2_regularization_cost"
   ]
  },
  {
   "cell_type": "code",
   "execution_count": 11,
   "metadata": {},
   "outputs": [],
   "source": [
    "def init(layer_dims):\n",
    "\n",
    "    parameters = {}\n",
    "    \n",
    "    for l in range(1, len(layer_dims)):\n",
    "        \n",
    "        parameters['W' + str(l)] = np.random.randn(layer_dims[l], layer_dims[l-1]) * 0.01\n",
    "        parameters['b' + str(l)] = np.zeros((layer_dims[l], 1))\n",
    "          \n",
    "    return parameters\n",
    "\n",
    "def forward_prop_activation(A_prev, W, b, activation):\n",
    "    \n",
    "    Z            = np.dot(W, A_prev) + b\n",
    "    linear_cache = (A_prev, W, b)\n",
    "    \n",
    "    if activation == \"relu\":\n",
    "        \n",
    "        A                = np.maximum(Z, 0)\n",
    "        activation_cache = Z\n",
    "        \n",
    "    elif activation == \"sigmoid\":\n",
    "        \n",
    "        A                = (1 + np.exp(-Z))**(-1)\n",
    "        activation_cache = Z\n",
    "        \n",
    "    elif activation == \"tanh\":\n",
    "        \n",
    "        activation_cache = Z\n",
    "        e_z              = np.exp(Z)\n",
    "        e_nz             = np.exp(-Z)\n",
    "        A                = (e_z - e_nz)/(e_z + e_nz)\n",
    "\n",
    "\n",
    "    cache = (linear_cache, activation_cache)\n",
    "    \n",
    "    return A, cache\n",
    "\n",
    "\n",
    "def forward_prop(X, parameters, activations):\n",
    "\n",
    "    caches = []\n",
    "    A      = X\n",
    "    L      = len(parameters) // 2 \n",
    "    \n",
    "    for l in range(1, L):\n",
    "        \n",
    "        A_prev     = A\n",
    "        activation = activations.popleft()\n",
    "        A, cache   = forward_prop_activation(A_prev, parameters[\"W\" + str(l)],parameters[\"b\" + str(l)], activation)\n",
    "        caches.append(cache)\n",
    "\n",
    "    activation = activations.popleft()\n",
    "    AL, cache  = forward_prop_activation(A, parameters[\"W\" + str(l + 1)], parameters[\"b\" + str(l + 1)], activation)\n",
    "    caches.append(cache)\n",
    "    \n",
    "    return AL, caches"
   ]
  },
  {
   "cell_type": "code",
   "execution_count": 12,
   "metadata": {},
   "outputs": [],
   "source": [
    "def backprop(dZ, cache, lambd):\n",
    "\n",
    "    A_prev, W, b = cache\n",
    "    m            = A_prev.shape[1]\n",
    "    \n",
    "    dW           = (1/m) * np.dot(dZ, A_prev.T) + (lambd * W) / m\n",
    "    db           = (1/m) * np.sum(dZ, axis=1, keepdims=True)\n",
    "    dA_prev      = np.dot(W.T, dZ)\n",
    "    \n",
    "\n",
    "    return (dA_prev, dW, db)\n",
    "\n",
    "\n",
    "def backprop_activation(dA, cache, activation, lambd):\n",
    "    \n",
    "    linear_cache, activation_cache = cache\n",
    "    \n",
    "    if activation == \"relu\":\n",
    "        Z          = activation_cache\n",
    "        dZ         = np.array(dA, copy=True)\n",
    "        dZ[Z <= 0] = 0\n",
    "    \n",
    "        \n",
    "    elif activation == \"sigmoid\":\n",
    "        \n",
    "        Z  = activation_cache\n",
    "        s  = np.power((1 + np.exp(-Z)),-1)\n",
    "        dZ = dA * s * (1 - s)\n",
    "   \n",
    "        \n",
    "    elif activation == \"tanh\":        \n",
    "        Z    = activation_cache\n",
    "        s    = (np.exp(Z) - np.exp(-Z))/(np.exp(Z) + np.exp(-Z))    \n",
    "        A    = Z * (1 - np.power(s, 2))\n",
    "    \n",
    "    dA_prev, dW, db = backprop(dZ, linear_cache, lambd)\n",
    "    \n",
    "    return (dA_prev, dW, db)\n",
    "\n",
    "def get_backprop_gradients(AL, Y, caches, activations, lambd):\n",
    "\n",
    "    grads = {}\n",
    "    L     = len(caches)\n",
    "    m     = AL.shape[1]\n",
    "    Y     = Y.reshape(AL.shape)\n",
    "        \n",
    "    dAL   = - (np.divide(Y, AL) - np.divide(1 - Y, 1 - AL))\n",
    "    \n",
    "    \n",
    "    activation    = activations.pop()\n",
    "    current_cache = caches[L-1]\n",
    "    \n",
    "    grads[\"dA\" + str(L-1)],\\\n",
    "    grads[\"dW\" + str(L)],\\\n",
    "    grads[\"db\" + str(L)] = backprop_activation(dAL, current_cache, activation, lambd)\n",
    "        \n",
    "    for l in reversed(range(L-1)):\n",
    "        \n",
    "        activation    = activations.pop()\n",
    "        current_cache = caches[l]\n",
    "        \n",
    "        dA_prev_temp, dW_temp, db_temp = backprop_activation(grads[\"dA\" + str(l + 1)],\\\n",
    "                                                                    current_cache, activation, lambd)\n",
    "        grads[\"dA\" + str(l)]     = dA_prev_temp\n",
    "        grads[\"dW\" + str(l + 1)] = dW_temp\n",
    "        grads[\"db\" + str(l + 1)] = db_temp\n",
    "        \n",
    "    return grads\n",
    "    \n",
    "    \n",
    "def backward_w_reg(X, Y, cache, lambd):\n",
    "    \n",
    "    m = X.shape[1]\n",
    "    (Z1, A1, W1, b1, Z2, A2, W2, b2) = cache\n",
    "    \n",
    "    dZ2 = A2 - Y\n",
    "    dW2 = 1. / m * np.dot(dZ2, A1.T) + (lambd * W2) / m\n",
    "    db2 = 1. / m * np.sum(dZ2, axis=1, keepdims=True)\n",
    "    \n",
    "    dA1 = np.dot(W2.T, dZ2)\n",
    "    \n",
    "    dZ1 = np.multiply(dA1, np.int64(A1 > 0))\n",
    "    dW1 = 1. / m * np.dot(dZ1, X.T) + (lambd * W1) / m\n",
    "    db1 = 1. / m * np.sum(dZ1, axis=1, keepdims=True)\n",
    "    \n",
    "    gradients = {\"dA2\": dA2,\"dZ2\": dZ2, \"dW2\": dW2, \"db2\": db2, \"dA1\": dA1, \n",
    "                 \"dZ1\": dZ1, \"dW1\": dW1, \"db1\": db1}\n",
    "    \n",
    "    return gradients"
   ]
  },
  {
   "cell_type": "code",
   "execution_count": 13,
   "metadata": {},
   "outputs": [],
   "source": [
    "def update(parameters, grads, learning_rate):\n",
    "\n",
    "    L = len(parameters) // 2 \n",
    "    \n",
    "    for l in range(L):\n",
    "        \n",
    "        parameters[\"W\" + str(l+1)] = parameters[\"W\" + str(l+1)] - \\\n",
    "                                        learning_rate * grads[\"dW\" + str(l + 1)]\n",
    "        parameters[\"b\" + str(l+1)] = parameters[\"b\" + str(l+1)] - \\\n",
    "                                        learning_rate * grads[\"db\" + str(l + 1)]\n",
    "        \n",
    "    return parameters\n",
    "\n",
    "\n",
    "def train_model(X, Y, config):\n",
    "            \n",
    "    parameters = init(config[\"layers_dims\"])\n",
    "    \n",
    "    for i in range(0, config[\"num_iterations\"]):\n",
    "        \n",
    "        fact       = deque(config[\"activations\"].copy())\n",
    "        AL, caches = forward_prop(X, parameters, fact)          \n",
    "        cost       = get_cost_w_reg(AL, Y, parameters, config[\"lambd\"])\n",
    "        bact       = deque(config[\"activations\"].copy())\n",
    "        grads      = get_backprop_gradients(AL, Y, caches, bact, config[\"lambd\"])\n",
    "        parameters = update(parameters, grads, config[\"learning_rate\"])\n",
    "        \n",
    "        if i % 1000 == 0:  print (\"Cost after iteration %i: %f\" %(i, cost))\n",
    "                         \n",
    "    return parameters\n",
    "\n",
    "\n",
    "def predict(X, y, parameters, activations):\n",
    "    \n",
    "    p              = np.zeros((1,m))\n",
    "    facts          = deque(activations.copy())\n",
    "    probas, caches = forward_prop(X, parameters, facts)\n",
    "\n",
    "    for i in range(0, probas.shape[1]):\n",
    "        \n",
    "        if probas[0,i] > 0.5: p[0,i] = 1\n",
    "        else:                 p[0,i] = 0\n",
    "\n",
    "    return p\n",
    "\n",
    "\n",
    "def load():\n",
    "    \n",
    "    \n",
    "    input_data    = pd.read_csv('data/HW5.csv')\n",
    "    train, test   = train_test_split(input_data, test_size = 0.2)\n",
    "    \n",
    "    x_train       = np.array(train.loc[:, ['a', 'b']])\n",
    "    y_train       = np.array(train.loc[:, ['label']])\n",
    "    \n",
    "    x_test        = np.array(test.loc[:, ['a', 'b']])\n",
    "    y_test        = np.array(test.loc[:, ['label']])\n",
    "    \n",
    "    \n",
    "    \n",
    "    return x_train, y_train, x_test, y_test"
   ]
  },
  {
   "cell_type": "code",
   "execution_count": 14,
   "metadata": {},
   "outputs": [],
   "source": [
    "x_train, y_train, x_test, y_test = load()"
   ]
  },
  {
   "cell_type": "markdown",
   "metadata": {},
   "source": [
    "## B. The accuracy for S = 2 is 73% with lambda 0.5 and 97% with lambda = 500"
   ]
  },
  {
   "cell_type": "code",
   "execution_count": 15,
   "metadata": {
    "scrolled": true
   },
   "outputs": [
    {
     "name": "stdout",
     "output_type": "stream",
     "text": [
      "Cost after iteration 0: 0.693162\n",
      "Cost after iteration 1000: 0.391115\n",
      "Cost after iteration 2000: 0.359117\n"
     ]
    },
    {
     "data": {
      "text/plain": [
       "0.747"
      ]
     },
     "execution_count": 15,
     "metadata": {},
     "output_type": "execute_result"
    }
   ],
   "source": [
    "config = { \"activations\": [\"relu\", \"sigmoid\"], \"layers_dims\" : [2, 2, 1],\n",
    "            \"learning_rate\": 0.0075, \"num_iterations\" : 3000,\n",
    "            \"print_cost\": True,\"lambd\": 0.5}\n",
    "\n",
    "parameters        = train_model(x_train.T, y_train.T, config) \n",
    "y_test_pred       = predict(x_test.T, y_test.T, parameters, config.get(\"activations\")).T \n",
    "accuracy_score(y_test, y_test_pred)"
   ]
  },
  {
   "cell_type": "code",
   "execution_count": 16,
   "metadata": {},
   "outputs": [
    {
     "data": {
      "text/plain": [
       "{'W1': array([[-0.49614893, -0.77022891],\n",
       "        [-0.63621609, -0.32190759]]),\n",
       " 'W2': array([[-0.91698623,  0.7138217 ]]),\n",
       " 'b1': array([[ 0.03989014],\n",
       "        [-0.03534747]]),\n",
       " 'b2': array([[0.08445209]])}"
      ]
     },
     "execution_count": 16,
     "metadata": {},
     "output_type": "execute_result"
    }
   ],
   "source": [
    "parameters"
   ]
  },
  {
   "cell_type": "markdown",
   "metadata": {},
   "source": [
    "## lambda = 500"
   ]
  },
  {
   "cell_type": "code",
   "execution_count": 29,
   "metadata": {},
   "outputs": [
    {
     "name": "stdout",
     "output_type": "stream",
     "text": [
      "Cost after iteration 0: 0.693319\n",
      "Cost after iteration 1000: 0.523287\n",
      "Cost after iteration 2000: 0.464413\n"
     ]
    },
    {
     "data": {
      "text/plain": [
       "0.979"
      ]
     },
     "execution_count": 29,
     "metadata": {},
     "output_type": "execute_result"
    }
   ],
   "source": [
    "config = {\"activations\": [\"relu\", \"sigmoid\"], \"layers_dims\" : [2, 2, 1],\n",
    "            \"learning_rate\": 0.0075, \"num_iterations\" : 3000,\n",
    "            \"print_cost\": True,\"lambd\": 500}\n",
    "\n",
    "parameters        = train_model(x_train.T, y_train.T, config) \n",
    "y_test_pred       = predict(x_test.T, y_test.T, parameters, config.get(\"activations\")).T \n",
    "accuracy_score(y_test, y_test_pred)"
   ]
  },
  {
   "cell_type": "code",
   "execution_count": 28,
   "metadata": {},
   "outputs": [
    {
     "data": {
      "text/plain": [
       "{'W1': array([[-0.24860265, -0.5123004 ],\n",
       "        [ 0.75084355, -0.00124395]]),\n",
       " 'W2': array([[-0.5698433 ,  0.75442722]]),\n",
       " 'b1': array([[0.02775391],\n",
       "        [0.08547043]]),\n",
       " 'b2': array([[0.0220922]])}"
      ]
     },
     "execution_count": 28,
     "metadata": {},
     "output_type": "execute_result"
    }
   ],
   "source": [
    "parameters"
   ]
  },
  {
   "cell_type": "markdown",
   "metadata": {},
   "source": [
    "## C. The accuracy for S = 10 is 100% with lambda = 0.5 and 74% with lambda = 500 "
   ]
  },
  {
   "cell_type": "code",
   "execution_count": 18,
   "metadata": {
    "scrolled": true
   },
   "outputs": [
    {
     "name": "stdout",
     "output_type": "stream",
     "text": [
      "Cost after iteration 0: 0.693806\n",
      "Cost after iteration 1000: 0.049605\n",
      "Cost after iteration 2000: 0.013739\n"
     ]
    },
    {
     "data": {
      "text/plain": [
       "0.999"
      ]
     },
     "execution_count": 18,
     "metadata": {},
     "output_type": "execute_result"
    }
   ],
   "source": [
    "config = {\n",
    "    \"activations\": [\"relu\", \"sigmoid\"],\n",
    "    \"layers_dims\" : [2, 10, 1], #  2-layer model\n",
    "    \"learning_rate\": 0.0075,\n",
    "    \"num_iterations\" : 3000,\n",
    "    \"print_cost\": True,\n",
    "    \"lambd\": 0.5\n",
    "}\n",
    "\n",
    "parameters  = train_model(x_train.T, y_train.T, config)\n",
    "y_test_pred = predict(x_test.T, y_test.T, parameters, config.get(\"activations\")).T \n",
    "accuracy_score(y_test, y_test_pred)"
   ]
  },
  {
   "cell_type": "code",
   "execution_count": 19,
   "metadata": {},
   "outputs": [
    {
     "data": {
      "text/plain": [
       "{'W1': array([[-0.55077971, -0.76099436],\n",
       "        [-0.36152371, -0.09346549],\n",
       "        [-0.17603503, -0.24320444],\n",
       "        [-0.28251728, -0.07297098],\n",
       "        [-0.08262698, -0.02141725],\n",
       "        [-0.65783904, -0.16983369],\n",
       "        [ 0.09517558,  0.24942912],\n",
       "        [ 0.20888765,  0.54431803],\n",
       "        [ 0.95332922,  0.15967837],\n",
       "        [ 0.17114534,  0.02866454]]),\n",
       " 'W2': array([[-0.94035605,  0.37418498, -0.30047745,  0.29224385,  0.08449863,\n",
       "          0.68066009, -0.266931  , -0.58308542,  0.97117605,  0.17407018]]),\n",
       " 'b1': array([[ 0.04313984],\n",
       "        [-0.01973303],\n",
       "        [ 0.01346816],\n",
       "        [-0.01657169],\n",
       "        [-0.00331261],\n",
       "        [-0.0399877 ],\n",
       "        [-0.00238802],\n",
       "        [-0.00610014],\n",
       "        [ 0.09658692],\n",
       "        [ 0.01705597]]),\n",
       " 'b2': array([[-0.01104839]])}"
      ]
     },
     "execution_count": 19,
     "metadata": {},
     "output_type": "execute_result"
    }
   ],
   "source": [
    "parameters"
   ]
  },
  {
   "cell_type": "markdown",
   "metadata": {},
   "source": [
    "## Setting a high lambda"
   ]
  },
  {
   "cell_type": "code",
   "execution_count": 33,
   "metadata": {},
   "outputs": [
    {
     "name": "stdout",
     "output_type": "stream",
     "text": [
      "Cost after iteration 0: 0.695011\n",
      "Cost after iteration 1000: 0.654314\n",
      "Cost after iteration 2000: 0.651400\n"
     ]
    },
    {
     "data": {
      "text/plain": [
       "0.747"
      ]
     },
     "execution_count": 33,
     "metadata": {},
     "output_type": "execute_result"
    }
   ],
   "source": [
    "config = {\n",
    "    \"activations\": [\"relu\", \"sigmoid\"],\n",
    "    \"layers_dims\" : [2, 10, 1], #  2-layer model\n",
    "    \"learning_rate\": 0.0075,\n",
    "    \"num_iterations\" : 3000,\n",
    "    \"print_cost\": True,\n",
    "    \"lambd\": 500\n",
    "}\n",
    "\n",
    "parameters  = train_model(x_train.T, y_train.T, config)\n",
    "y_test_pred = predict(x_test.T, y_test.T, parameters, config.get(\"activations\")).T \n",
    "accuracy_score(y_test, y_test_pred)"
   ]
  },
  {
   "cell_type": "code",
   "execution_count": 35,
   "metadata": {},
   "outputs": [
    {
     "data": {
      "text/plain": [
       "{'W1': array([[-1.95040110e-05,  8.07721180e-06],\n",
       "        [-5.30872339e-02, -8.83093145e-02],\n",
       "        [-7.65599550e-14,  3.18206948e-12],\n",
       "        [-2.07695421e-03, -3.43965044e-03],\n",
       "        [-2.38263393e-03, -3.95139184e-03],\n",
       "        [-4.03199479e-06,  1.66886207e-06],\n",
       "        [ 1.33921391e-06,  3.90191742e-07],\n",
       "        [ 1.68743713e-03, -1.55409451e-04],\n",
       "        [-1.22472288e-01, -2.03752742e-01],\n",
       "        [-4.86712735e-05,  2.01483870e-05]]),\n",
       " 'W2': array([[ 1.60461971e-05, -1.05405964e-01, -1.37457003e-12,\n",
       "         -4.10613407e-03, -4.71700442e-03,  3.31758276e-06,\n",
       "          1.92446883e-06,  1.98258249e-03, -2.43196958e-01,\n",
       "          4.00460211e-05]]),\n",
       " 'b1': array([[-2.60617973e-04],\n",
       "        [ 1.15538398e-01],\n",
       "        [-2.35373103e-04],\n",
       "        [ 4.29141017e-03],\n",
       "        [ 5.01316378e-03],\n",
       "        [-5.38563715e-05],\n",
       "        [ 5.05891603e-04],\n",
       "        [ 8.57900171e-03],\n",
       "        [ 2.66827197e-01],\n",
       "        [-6.50194286e-04]]),\n",
       " 'b2': array([[0.31134879]])}"
      ]
     },
     "execution_count": 35,
     "metadata": {},
     "output_type": "execute_result"
    }
   ],
   "source": [
    "parameters"
   ]
  },
  {
   "cell_type": "markdown",
   "metadata": {},
   "source": [
    "## Part D\n",
    "\n",
    "### The data is not linearly seperable. Part (ii) with 2 neurons in layer 2 could reach 74% accuracy where as part (iii) with 10 neurons in layer 3 could classify everything correctly. This makes sense as the more neurons there are, the higher the variance will be and more flexible the model will be."
   ]
  },
  {
   "cell_type": "code",
   "execution_count": 26,
   "metadata": {},
   "outputs": [
    {
     "data": {
      "text/plain": [
       "<matplotlib.collections.PathCollection at 0x7fde5f1caf28>"
      ]
     },
     "execution_count": 26,
     "metadata": {},
     "output_type": "execute_result"
    },
    {
     "data": {
      "image/png": "[encoded data removed]",
      "text/plain": [
       "<matplotlib.figure.Figure at 0x7fde5f252b38>"
      ]
     },
     "metadata": {},
     "output_type": "display_data"
    }
   ],
   "source": [
    "input_data    = pd.read_csv('data/HW5.csv')\n",
    "color         = ['blue' if i == 1 else 'red' for i in input_data['label']]\n",
    "\n",
    "plt.scatter(input_data['a'], input_data['b'], color=color, alpha = 0.8)"
   ]
  }
 ],
 "metadata": {
  "kernelspec": {
   "display_name": "Python 3",
   "language": "python",
   "name": "python3"
  },
  "language_info": {
   "codemirror_mode": {
    "name": "ipython",
    "version": 3
   },
   "file_extension": ".py",
   "mimetype": "text/x-python",
   "name": "python",
   "nbconvert_exporter": "python",
   "pygments_lexer": "ipython3",
   "version": "3.6.4"
  }
 },
 "nbformat": 4,
 "nbformat_minor": 2
}
