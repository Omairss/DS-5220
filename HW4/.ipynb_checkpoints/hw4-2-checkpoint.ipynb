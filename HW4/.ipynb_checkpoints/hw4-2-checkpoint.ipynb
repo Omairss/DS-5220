{
 "cells": [
  {
   "cell_type": "code",
   "execution_count": 362,
   "metadata": {},
   "outputs": [],
   "source": [
    "import matplotlib.pyplot as plt\n",
    "import pandas as pd\n",
    "import numpy as np\n",
    "from math import ceil\n",
    "from scipy import linalg\n",
    "%matplotlib inline\n",
    "import random\n",
    "import statsmodels.api as sm\n",
    "from math import ceil\n",
    "from scipy import linalg\n",
    "from sklearn.preprocessing import StandardScaler\n",
    "import statsmodels.api as sm\n",
    "lowess_sm = sm.nonparametric.lowess"
   ]
  },
  {
   "cell_type": "code",
   "execution_count": 2,
   "metadata": {},
   "outputs": [
    {
     "data": {
      "text/html": [
       "<div>\n",
       "<style scoped>\n",
       "    .dataframe tbody tr th:only-of-type {\n",
       "        vertical-align: middle;\n",
       "    }\n",
       "\n",
       "    .dataframe tbody tr th {\n",
       "        vertical-align: top;\n",
       "    }\n",
       "\n",
       "    .dataframe thead th {\n",
       "        text-align: right;\n",
       "    }\n",
       "</style>\n",
       "<table border=\"1\" class=\"dataframe\">\n",
       "  <thead>\n",
       "    <tr style=\"text-align: right;\">\n",
       "      <th></th>\n",
       "      <th>Unnamed: 0</th>\n",
       "      <th>disease</th>\n",
       "      <th>state</th>\n",
       "      <th>year</th>\n",
       "      <th>weeks_reporting</th>\n",
       "      <th>count</th>\n",
       "      <th>population</th>\n",
       "    </tr>\n",
       "  </thead>\n",
       "  <tbody>\n",
       "    <tr>\n",
       "      <th>0</th>\n",
       "      <td>1</td>\n",
       "      <td>Hepatitis A</td>\n",
       "      <td>Alabama</td>\n",
       "      <td>1966</td>\n",
       "      <td>50</td>\n",
       "      <td>321</td>\n",
       "      <td>3345787.0</td>\n",
       "    </tr>\n",
       "    <tr>\n",
       "      <th>1</th>\n",
       "      <td>2</td>\n",
       "      <td>Hepatitis A</td>\n",
       "      <td>Alabama</td>\n",
       "      <td>1967</td>\n",
       "      <td>49</td>\n",
       "      <td>291</td>\n",
       "      <td>3364130.0</td>\n",
       "    </tr>\n",
       "    <tr>\n",
       "      <th>2</th>\n",
       "      <td>3</td>\n",
       "      <td>Hepatitis A</td>\n",
       "      <td>Alabama</td>\n",
       "      <td>1968</td>\n",
       "      <td>52</td>\n",
       "      <td>314</td>\n",
       "      <td>3386068.0</td>\n",
       "    </tr>\n",
       "    <tr>\n",
       "      <th>3</th>\n",
       "      <td>4</td>\n",
       "      <td>Hepatitis A</td>\n",
       "      <td>Alabama</td>\n",
       "      <td>1969</td>\n",
       "      <td>49</td>\n",
       "      <td>380</td>\n",
       "      <td>3412450.0</td>\n",
       "    </tr>\n",
       "    <tr>\n",
       "      <th>4</th>\n",
       "      <td>5</td>\n",
       "      <td>Hepatitis A</td>\n",
       "      <td>Alabama</td>\n",
       "      <td>1970</td>\n",
       "      <td>51</td>\n",
       "      <td>413</td>\n",
       "      <td>3444165.0</td>\n",
       "    </tr>\n",
       "  </tbody>\n",
       "</table>\n",
       "</div>"
      ],
      "text/plain": [
       "   Unnamed: 0      disease    state  year  weeks_reporting  count  population\n",
       "0           1  Hepatitis A  Alabama  1966               50    321   3345787.0\n",
       "1           2  Hepatitis A  Alabama  1967               49    291   3364130.0\n",
       "2           3  Hepatitis A  Alabama  1968               52    314   3386068.0\n",
       "3           4  Hepatitis A  Alabama  1969               49    380   3412450.0\n",
       "4           5  Hepatitis A  Alabama  1970               51    413   3444165.0"
      ]
     },
     "execution_count": 2,
     "metadata": {},
     "output_type": "execute_result"
    }
   ],
   "source": [
    "df = pd.read_csv(\"data/us_diseases.csv\")\n",
    "df.head()"
   ]
  },
  {
   "cell_type": "code",
   "execution_count": 3,
   "metadata": {},
   "outputs": [
    {
     "data": {
      "text/html": [
       "<div>\n",
       "<style scoped>\n",
       "    .dataframe tbody tr th:only-of-type {\n",
       "        vertical-align: middle;\n",
       "    }\n",
       "\n",
       "    .dataframe tbody tr th {\n",
       "        vertical-align: top;\n",
       "    }\n",
       "\n",
       "    .dataframe thead th {\n",
       "        text-align: right;\n",
       "    }\n",
       "</style>\n",
       "<table border=\"1\" class=\"dataframe\">\n",
       "  <thead>\n",
       "    <tr style=\"text-align: right;\">\n",
       "      <th></th>\n",
       "      <th>Unnamed: 0</th>\n",
       "      <th>disease</th>\n",
       "      <th>state</th>\n",
       "      <th>year</th>\n",
       "      <th>weeks_reporting</th>\n",
       "      <th>count</th>\n",
       "      <th>population</th>\n",
       "    </tr>\n",
       "  </thead>\n",
       "  <tbody>\n",
       "    <tr>\n",
       "      <th>2650</th>\n",
       "      <td>2651</td>\n",
       "      <td>Measles</td>\n",
       "      <td>California</td>\n",
       "      <td>1928</td>\n",
       "      <td>52</td>\n",
       "      <td>3698</td>\n",
       "      <td>5230775.0</td>\n",
       "    </tr>\n",
       "    <tr>\n",
       "      <th>2651</th>\n",
       "      <td>2652</td>\n",
       "      <td>Measles</td>\n",
       "      <td>California</td>\n",
       "      <td>1929</td>\n",
       "      <td>52</td>\n",
       "      <td>4024</td>\n",
       "      <td>5465979.0</td>\n",
       "    </tr>\n",
       "    <tr>\n",
       "      <th>2652</th>\n",
       "      <td>2653</td>\n",
       "      <td>Measles</td>\n",
       "      <td>California</td>\n",
       "      <td>1930</td>\n",
       "      <td>52</td>\n",
       "      <td>43416</td>\n",
       "      <td>5677251.0</td>\n",
       "    </tr>\n",
       "    <tr>\n",
       "      <th>2653</th>\n",
       "      <td>2654</td>\n",
       "      <td>Measles</td>\n",
       "      <td>California</td>\n",
       "      <td>1931</td>\n",
       "      <td>52</td>\n",
       "      <td>27807</td>\n",
       "      <td>5856343.0</td>\n",
       "    </tr>\n",
       "    <tr>\n",
       "      <th>2654</th>\n",
       "      <td>2655</td>\n",
       "      <td>Measles</td>\n",
       "      <td>California</td>\n",
       "      <td>1932</td>\n",
       "      <td>52</td>\n",
       "      <td>12618</td>\n",
       "      <td>6004994.0</td>\n",
       "    </tr>\n",
       "  </tbody>\n",
       "</table>\n",
       "</div>"
      ],
      "text/plain": [
       "      Unnamed: 0  disease       state  year  weeks_reporting  count  \\\n",
       "2650        2651  Measles  California  1928               52   3698   \n",
       "2651        2652  Measles  California  1929               52   4024   \n",
       "2652        2653  Measles  California  1930               52  43416   \n",
       "2653        2654  Measles  California  1931               52  27807   \n",
       "2654        2655  Measles  California  1932               52  12618   \n",
       "\n",
       "      population  \n",
       "2650   5230775.0  \n",
       "2651   5465979.0  \n",
       "2652   5677251.0  \n",
       "2653   5856343.0  \n",
       "2654   6004994.0  "
      ]
     },
     "execution_count": 3,
     "metadata": {},
     "output_type": "execute_result"
    }
   ],
   "source": [
    "df2 = df[(df.disease == 'Measles') & (df.state == 'California')]\n",
    "df2.head()"
   ]
  },
  {
   "cell_type": "code",
   "execution_count": 6,
   "metadata": {},
   "outputs": [],
   "source": [
    "population = np.asarray(df2['population'], float)\n",
    "count = np.asarray(df2['count'], float)"
   ]
  },
  {
   "cell_type": "code",
   "execution_count": 289,
   "metadata": {},
   "outputs": [],
   "source": [
    "# using custom data for testing\n",
    "\n",
    "def genData(numPoints, slope, intercept):\n",
    "    \n",
    "    x = np.zeros(shape=(numPoints, 2))\n",
    "    y = np.zeros(shape=numPoints)\n",
    "    \n",
    "    x[:,0] = 1\n",
    "    x[:,1] = np.random.uniform(-2, 2, size = numPoints)\n",
    "    \n",
    "    for i in range(0, numPoints): y[i] = (x[i][1] * slope) + (intercept + np.random.normal(0,4))\n",
    "    \n",
    "    return x, y"
   ]
  },
  {
   "cell_type": "markdown",
   "metadata": {},
   "source": [
    "## 2A"
   ]
  },
  {
   "cell_type": "code",
   "execution_count": 290,
   "metadata": {},
   "outputs": [],
   "source": [
    "def gradient_descent(loss_measure, x, y, alpha, m, n, delta=2):\n",
    "    \"\"\"\n",
    "    loss_type: string\n",
    "    n: number of iterations\n",
    "    \"\"\"\n",
    "    xT = x.transpose()\n",
    "    theta = np.ones(2)\n",
    "    for i in range(n):\n",
    "        hypothesis = np.dot(x, theta)\n",
    "        loss = hypothesis - y\n",
    "        if loss_measure == 'quadratic_loss':\n",
    "            loss = loss\n",
    "        elif loss_measure == 'mean_absolute_error':\n",
    "            loss[loss>0] = 1\n",
    "            loss[loss<0] = -1\n",
    "        elif loss_measure == 'huber_loss':\n",
    "            loss[abs(loss) <= delta] = loss[abs(loss) <= delta]\n",
    "            loss[abs(loss) > delta] = delta * np.sign(loss[abs(loss) > delta])\n",
    "        gradient = np.dot(xT, loss) / m\n",
    "        \n",
    "        #print(loss)\n",
    "        theta = theta - alpha * gradient\n",
    "    return theta"
   ]
  },
  {
   "cell_type": "markdown",
   "metadata": {},
   "source": [
    "Checking gradient descent method with simulated data."
   ]
  },
  {
   "cell_type": "code",
   "execution_count": 291,
   "metadata": {},
   "outputs": [
    {
     "data": {
      "text/plain": [
       "array([ 5.3414363 ,  2.74569463])"
      ]
     },
     "execution_count": 291,
     "metadata": {},
     "output_type": "execute_result"
    }
   ],
   "source": [
    "x, y = genData(50, 3, 5)\n",
    "m = len(x)\n",
    "yest = np.zeros(m)\n",
    "numIterations = 5000\n",
    "alpha = .01\n",
    "thetasss = gradient_descent('quadratic_loss', x, y, alpha, m , numIterations)\n",
    "thetasss"
   ]
  },
  {
   "cell_type": "code",
   "execution_count": 363,
   "metadata": {},
   "outputs": [],
   "source": [
    "def local_lr(x, y, lambda_ = .5, loss_func = 'quadratic_loss'):\n",
    "    \n",
    "    n = len(x)\n",
    "    y_estimates = np.zeros(n)\n",
    "    num_iterations = 5000\n",
    "    alpha = .01\n",
    "\n",
    "    x = x.astype('float')\n",
    "    y = y.astype('float')\n",
    "    # x = x[:,1]\n",
    "    gauss_k = np.array([np.exp(- (x - x[j])**2/(2*lambda_)) for j in range(n)])\n",
    "    # gauss_k /= lambda_\n",
    "    \n",
    "    for k in range(0, n):\n",
    "\n",
    "        w_ = gauss_k[:, k]\n",
    "        X_w = np.array([[np.sum(w_), np.sum(x * w_)], [np.sum(x * w_), np.sum(x * x * w_)]])\n",
    "        Y_w = np.array([np.sum(y * w_), np.sum(w_ * x * y)])\n",
    "        theta = gradient_descent(loss_func, X_w, Y_w, alpha, n , num_iterations)\n",
    "        \n",
    "        y_estimates[k] = theta[0] + theta[1] * x[k] \n",
    "\n",
    "    return y_estimates"
   ]
  },
  {
   "cell_type": "markdown",
   "metadata": {},
   "source": [
    "## 2B"
   ]
  },
  {
   "cell_type": "markdown",
   "metadata": {},
   "source": [
    "#### First plotting number of occ. vs years:"
   ]
  },
  {
   "cell_type": "code",
   "execution_count": 345,
   "metadata": {},
   "outputs": [
    {
     "data": {
      "text/plain": [
       "<matplotlib.axes._subplots.AxesSubplot at 0x1c21114780>"
      ]
     },
     "execution_count": 345,
     "metadata": {},
     "output_type": "execute_result"
    },
    {
     "data": {
      "image/png": "[encoded data removed]",
      "text/plain": [
       "<matplotlib.figure.Figure at 0x1116b7978>"
      ]
     },
     "metadata": {},
     "output_type": "display_data"
    }
   ],
   "source": [
    "df2.plot(x='year', y='count', style='o')"
   ]
  },
  {
   "cell_type": "code",
   "execution_count": 346,
   "metadata": {},
   "outputs": [
    {
     "data": {
      "text/plain": [
       "<matplotlib.axes._subplots.AxesSubplot at 0x1116b4c88>"
      ]
     },
     "execution_count": 346,
     "metadata": {},
     "output_type": "execute_result"
    },
    {
     "data": {
      "image/png": "[encoded data removed]",
      "text/plain": [
       "<matplotlib.figure.Figure at 0x1c1f5f2128>"
      ]
     },
     "metadata": {},
     "output_type": "display_data"
    }
   ],
   "source": [
    "df2.plot(x=\"year\", y=[\"count\"], kind=\"bar\")"
   ]
  },
  {
   "cell_type": "markdown",
   "metadata": {},
   "source": [
    "#### plotting against population"
   ]
  },
  {
   "cell_type": "code",
   "execution_count": 347,
   "metadata": {},
   "outputs": [
    {
     "data": {
      "text/plain": [
       "<matplotlib.axes._subplots.AxesSubplot at 0x1c212af518>"
      ]
     },
     "execution_count": 347,
     "metadata": {},
     "output_type": "execute_result"
    },
    {
     "data": {
      "image/png": "[encoded data removed]",
      "text/plain": [
       "<matplotlib.figure.Figure at 0x1c211ad588>"
      ]
     },
     "metadata": {},
     "output_type": "display_data"
    }
   ],
   "source": [
    "df2.plot(x='population', y='count', style='o')"
   ]
  },
  {
   "cell_type": "markdown",
   "metadata": {},
   "source": [
    "Normalizing the values of population and count arrays:"
   ]
  },
  {
   "cell_type": "code",
   "execution_count": 293,
   "metadata": {},
   "outputs": [],
   "source": [
    "population_ = (population - population.min()) / (population.max() - population.min())\n",
    "count_ = (count - count.min()) / (count.max() - count.min())"
   ]
  },
  {
   "cell_type": "code",
   "execution_count": 297,
   "metadata": {},
   "outputs": [],
   "source": [
    "population_= scaler.fit_transform(population.reshape(-1,1))\n",
    "count_= scaler.fit_transform(count.reshape(-1,1))"
   ]
  },
  {
   "cell_type": "markdown",
   "metadata": {},
   "source": [
    "#### Method:\n",
    "Everywhere, I'll fit my model as count vs population and plot the count (predicted and actual) vs year"
   ]
  },
  {
   "cell_type": "code",
   "execution_count": 361,
   "metadata": {},
   "outputs": [
    {
     "data": {
      "image/png": "[encoded data removed]",
      "text/plain": [
       "<matplotlib.figure.Figure at 0x1c21a46898>"
      ]
     },
     "metadata": {},
     "output_type": "display_data"
    }
   ],
   "source": [
    "x = population_\n",
    "y = count_\n",
    "lambda_= 2\n",
    "loss_func = 'quadratic_loss'\n",
    "\n",
    "yest = local_lr(x, y, lambda_, loss_func)\n",
    "yest_ = scaler.inverse_transform(yest)\n",
    "\n",
    "plt.plot(df2['year'], count, '+', label='y original')\n",
    "plt.plot(df2['year'], yest_, label='y pred')\n",
    "plt.legend()\n",
    "plt.show()"
   ]
  },
  {
   "cell_type": "code",
   "execution_count": 360,
   "metadata": {},
   "outputs": [
    {
     "data": {
      "image/png": "[encoded data removed]",
      "text/plain": [
       "<matplotlib.figure.Figure at 0x1c211da978>"
      ]
     },
     "metadata": {},
     "output_type": "display_data"
    }
   ],
   "source": [
    "x = population_\n",
    "y = count_\n",
    "lambda_= .6\n",
    "loss_func = 'quadratic_loss'\n",
    "\n",
    "yest = local_lr(x, y, lambda_, loss_func)\n",
    "yest_ = scaler.inverse_transform(yest)\n",
    "\n",
    "plt.plot(df2['year'], count, '+', label='y original')\n",
    "plt.plot(df2['year'], yest_, label='y pred')\n",
    "plt.legend()\n",
    "plt.show()"
   ]
  },
  {
   "cell_type": "code",
   "execution_count": 359,
   "metadata": {},
   "outputs": [
    {
     "data": {
      "image/png": "[encoded data removed]",
      "text/plain": [
       "<matplotlib.figure.Figure at 0x1c21a7da90>"
      ]
     },
     "metadata": {},
     "output_type": "display_data"
    }
   ],
   "source": [
    "x = population_\n",
    "y = count_\n",
    "lambda_= .4\n",
    "loss_func = 'quadratic_loss'\n",
    "\n",
    "yest = local_lr(x, y, lambda_, loss_func)\n",
    "yest_ = scaler.inverse_transform(yest)\n",
    "\n",
    "plt.plot(df2['year'], count, '+', label='y original')\n",
    "plt.plot(df2['year'], yest_, label='y pred')\n",
    "plt.legend()\n",
    "plt.show()"
   ]
  },
  {
   "cell_type": "code",
   "execution_count": 358,
   "metadata": {},
   "outputs": [
    {
     "data": {
      "image/png": "[encoded data removed]",
      "text/plain": [
       "<matplotlib.figure.Figure at 0x1c21a49cf8>"
      ]
     },
     "metadata": {},
     "output_type": "display_data"
    }
   ],
   "source": [
    "x = population_\n",
    "y = count_\n",
    "lambda_= .2\n",
    "loss_func = 'quadratic_loss'\n",
    "\n",
    "yest = local_lr(x, y, lambda_, loss_func)\n",
    "yest_ = scaler.inverse_transform(yest)\n",
    "\n",
    "plt.plot(df2['year'], count, '+', label='y original')\n",
    "plt.plot(df2['year'], yest_, label='y pred')\n",
    "plt.legend()\n",
    "plt.show()"
   ]
  },
  {
   "cell_type": "code",
   "execution_count": 370,
   "metadata": {},
   "outputs": [
    {
     "data": {
      "image/png": "[encoded data removed]",
      "text/plain": [
       "<matplotlib.figure.Figure at 0x1c21a2f4e0>"
      ]
     },
     "metadata": {},
     "output_type": "display_data"
    }
   ],
   "source": [
    "x = population_\n",
    "y = count_\n",
    "lambda_= .1\n",
    "loss_func = 'quadratic_loss'\n",
    "\n",
    "yest = local_lr(x, y, lambda_, loss_func)\n",
    "yest_ = scaler.inverse_transform(yest)\n",
    "\n",
    "plt.plot(df2['year'], count, '.', label='y original')\n",
    "plt.plot(df2['year'], yest_, label='y pred')\n",
    "plt.legend()\n",
    "plt.show()"
   ]
  },
  {
   "cell_type": "markdown",
   "metadata": {},
   "source": [
    "Comparing my implementation with stats model python library:"
   ]
  },
  {
   "cell_type": "code",
   "execution_count": 357,
   "metadata": {},
   "outputs": [
    {
     "data": {
      "image/png": "[encoded data removed]",
      "text/plain": [
       "<matplotlib.figure.Figure at 0x1c2197ed68>"
      ]
     },
     "metadata": {},
     "output_type": "display_data"
    }
   ],
   "source": [
    "lowess_ = lowess_sm(df2['count'], df2['population'], frac=0.9)\n",
    "plt.plot(df2['year'], df2['count'], '.')\n",
    "plt.plot(df2['year'], lowess_[:, 1])\n",
    "plt.show()"
   ]
  },
  {
   "cell_type": "code",
   "execution_count": 368,
   "metadata": {
    "scrolled": true
   },
   "outputs": [
    {
     "data": {
      "image/png": "[encoded data removed]",
      "text/plain": [
       "<matplotlib.figure.Figure at 0x1c211f9eb8>"
      ]
     },
     "metadata": {},
     "output_type": "display_data"
    }
   ],
   "source": [
    "lowess_ = lowess_sm(df2['count'], df2['population'], frac=0.1)\n",
    "plt.plot(df2['year'], df2['count'], '.')\n",
    "plt.plot(df2['year'], lowess_[:, 1])\n",
    "plt.show()"
   ]
  },
  {
   "cell_type": "markdown",
   "metadata": {},
   "source": [
    "Library gives similar results to our own implementation. We could try out parameter tuning for gradient descent for even better results. However, the concept remains the same."
   ]
  },
  {
   "cell_type": "markdown",
   "metadata": {},
   "source": [
    "### Inference:\n",
    "\n",
    "From all the plots above, it can be seen that **higher values of lambda result in a very smooth prediction curve**. For e.g., lambda = .9 is very smooth and it's kind of underfitting the data.\n",
    "\n",
    "For small values of lamda, the local linear regression algorithm tries to fit every point and it's an example of overfitting for the data points."
   ]
  },
  {
   "cell_type": "markdown",
   "metadata": {},
   "source": [
    "## 2C"
   ]
  },
  {
   "cell_type": "markdown",
   "metadata": {},
   "source": [
    "#### What conclusion regarding the occurrence of the disease can you make from the local regression fit?\n",
    "Clearly the number of people affected by Measles in CA has been decreasing over the years (somewhat exponentially). This is pretty evident from all the plots, given there were about 40-70 K occurrences before 1970s and probably less than 5 K occ. after 1970s.\n",
    "\n",
    "#### Can you suggest an explanation for this pattern?\n",
    "Well, one clear explanation is improvement in health care over the years. Due to advancement in medical field like vaccinations, preventive medicines, etc., there is clear decrease in number of people being affected by it."
   ]
  },
  {
   "cell_type": "markdown",
   "metadata": {},
   "source": [
    "References:\n",
    "\n",
    "https://math.dartmouth.edu/~m50f15/Lowess.html  \n",
    "https://gist.github.com/agramfort/850437  \n",
    "https://www.olamilekanwahab.com/locally-weight-regression/  \n",
    "https://xavierbourretsicotte.github.io/loess.html"
   ]
  },
  {
   "cell_type": "code",
   "execution_count": null,
   "metadata": {},
   "outputs": [],
   "source": []
  }
 ],
 "metadata": {
  "kernelspec": {
   "display_name": "Python 3",
   "language": "python",
   "name": "python3"
  },
  "language_info": {
   "codemirror_mode": {
    "name": "ipython",
    "version": 3
   },
   "file_extension": ".py",
   "mimetype": "text/x-python",
   "name": "python",
   "nbconvert_exporter": "python",
   "pygments_lexer": "ipython3",
   "version": "3.6.4"
  }
 },
 "nbformat": 4,
 "nbformat_minor": 2
}
