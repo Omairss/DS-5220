{
 "cells": [
  {
   "cell_type": "markdown",
   "metadata": {},
   "source": [
    "# Problem 6"
   ]
  },
  {
   "cell_type": "code",
   "execution_count": 626,
   "metadata": {},
   "outputs": [],
   "source": [
    "hw3 = pd.read_csv(\"hw3_dataset.txt\", delim_whitespace=True, names = ['id', 'funding', 'fv', 'shares', 'l_buyout'])"
   ]
  },
  {
   "cell_type": "markdown",
   "metadata": {},
   "source": [
    "## 6 A\n",
    "Trying out EDA"
   ]
  },
  {
   "cell_type": "code",
   "execution_count": 630,
   "metadata": {},
   "outputs": [
    {
     "data": {
      "text/html": [
       "<div>\n",
       "<style scoped>\n",
       "    .dataframe tbody tr th:only-of-type {\n",
       "        vertical-align: middle;\n",
       "    }\n",
       "\n",
       "    .dataframe tbody tr th {\n",
       "        vertical-align: top;\n",
       "    }\n",
       "\n",
       "    .dataframe thead th {\n",
       "        text-align: right;\n",
       "    }\n",
       "</style>\n",
       "<table border=\"1\" class=\"dataframe\">\n",
       "  <thead>\n",
       "    <tr style=\"text-align: right;\">\n",
       "      <th></th>\n",
       "      <th>funding</th>\n",
       "      <th>fv</th>\n",
       "      <th>shares</th>\n",
       "      <th>l_buyout</th>\n",
       "    </tr>\n",
       "  </thead>\n",
       "  <tbody>\n",
       "    <tr>\n",
       "      <th>count</th>\n",
       "      <td>482.000000</td>\n",
       "      <td>4.820000e+02</td>\n",
       "      <td>4.820000e+02</td>\n",
       "      <td>482.000000</td>\n",
       "    </tr>\n",
       "    <tr>\n",
       "      <th>mean</th>\n",
       "      <td>0.439834</td>\n",
       "      <td>2.651672e+07</td>\n",
       "      <td>2.227942e+06</td>\n",
       "      <td>0.093361</td>\n",
       "    </tr>\n",
       "    <tr>\n",
       "      <th>std</th>\n",
       "      <td>0.496883</td>\n",
       "      <td>2.632174e+07</td>\n",
       "      <td>1.413872e+06</td>\n",
       "      <td>0.291240</td>\n",
       "    </tr>\n",
       "    <tr>\n",
       "      <th>min</th>\n",
       "      <td>0.000000</td>\n",
       "      <td>1.200000e+06</td>\n",
       "      <td>3.000000e+05</td>\n",
       "      <td>0.000000</td>\n",
       "    </tr>\n",
       "    <tr>\n",
       "      <th>25%</th>\n",
       "      <td>0.000000</td>\n",
       "      <td>1.025000e+07</td>\n",
       "      <td>1.300000e+06</td>\n",
       "      <td>0.000000</td>\n",
       "    </tr>\n",
       "    <tr>\n",
       "      <th>50%</th>\n",
       "      <td>0.000000</td>\n",
       "      <td>1.950000e+07</td>\n",
       "      <td>2.000000e+06</td>\n",
       "      <td>0.000000</td>\n",
       "    </tr>\n",
       "    <tr>\n",
       "      <th>75%</th>\n",
       "      <td>1.000000</td>\n",
       "      <td>3.250000e+07</td>\n",
       "      <td>2.700000e+06</td>\n",
       "      <td>0.000000</td>\n",
       "    </tr>\n",
       "    <tr>\n",
       "      <th>max</th>\n",
       "      <td>1.000000</td>\n",
       "      <td>2.346000e+08</td>\n",
       "      <td>1.101862e+07</td>\n",
       "      <td>1.000000</td>\n",
       "    </tr>\n",
       "  </tbody>\n",
       "</table>\n",
       "</div>"
      ],
      "text/plain": [
       "          funding            fv        shares    l_buyout\n",
       "count  482.000000  4.820000e+02  4.820000e+02  482.000000\n",
       "mean     0.439834  2.651672e+07  2.227942e+06    0.093361\n",
       "std      0.496883  2.632174e+07  1.413872e+06    0.291240\n",
       "min      0.000000  1.200000e+06  3.000000e+05    0.000000\n",
       "25%      0.000000  1.025000e+07  1.300000e+06    0.000000\n",
       "50%      0.000000  1.950000e+07  2.000000e+06    0.000000\n",
       "75%      1.000000  3.250000e+07  2.700000e+06    0.000000\n",
       "max      1.000000  2.346000e+08  1.101862e+07    1.000000"
      ]
     },
     "execution_count": 630,
     "metadata": {},
     "output_type": "execute_result"
    }
   ],
   "source": [
    "hw3.describe()"
   ]
  },
  {
   "cell_type": "markdown",
   "metadata": {},
   "source": [
    "The fv and shares features have really large values compared to l_buyout and funding columns."
   ]
  },
  {
   "cell_type": "code",
   "execution_count": 627,
   "metadata": {},
   "outputs": [
    {
     "data": {
      "text/html": [
       "<div>\n",
       "<style scoped>\n",
       "    .dataframe tbody tr th:only-of-type {\n",
       "        vertical-align: middle;\n",
       "    }\n",
       "\n",
       "    .dataframe tbody tr th {\n",
       "        vertical-align: top;\n",
       "    }\n",
       "\n",
       "    .dataframe thead th {\n",
       "        text-align: right;\n",
       "    }\n",
       "</style>\n",
       "<table border=\"1\" class=\"dataframe\">\n",
       "  <thead>\n",
       "    <tr style=\"text-align: right;\">\n",
       "      <th></th>\n",
       "      <th>id</th>\n",
       "      <th>funding</th>\n",
       "      <th>fv</th>\n",
       "      <th>shares</th>\n",
       "      <th>l_buyout</th>\n",
       "    </tr>\n",
       "  </thead>\n",
       "  <tbody>\n",
       "    <tr>\n",
       "      <th>0</th>\n",
       "      <td>1</td>\n",
       "      <td>0</td>\n",
       "      <td>1200000</td>\n",
       "      <td>3000000</td>\n",
       "      <td>0</td>\n",
       "    </tr>\n",
       "    <tr>\n",
       "      <th>1</th>\n",
       "      <td>2</td>\n",
       "      <td>0</td>\n",
       "      <td>1454000</td>\n",
       "      <td>1454000</td>\n",
       "      <td>1</td>\n",
       "    </tr>\n",
       "    <tr>\n",
       "      <th>2</th>\n",
       "      <td>3</td>\n",
       "      <td>0</td>\n",
       "      <td>1500000</td>\n",
       "      <td>300000</td>\n",
       "      <td>0</td>\n",
       "    </tr>\n",
       "    <tr>\n",
       "      <th>3</th>\n",
       "      <td>4</td>\n",
       "      <td>0</td>\n",
       "      <td>1530000</td>\n",
       "      <td>510000</td>\n",
       "      <td>0</td>\n",
       "    </tr>\n",
       "    <tr>\n",
       "      <th>4</th>\n",
       "      <td>5</td>\n",
       "      <td>0</td>\n",
       "      <td>2000000</td>\n",
       "      <td>800000</td>\n",
       "      <td>0</td>\n",
       "    </tr>\n",
       "  </tbody>\n",
       "</table>\n",
       "</div>"
      ],
      "text/plain": [
       "   id  funding       fv   shares  l_buyout\n",
       "0   1        0  1200000  3000000         0\n",
       "1   2        0  1454000  1454000         1\n",
       "2   3        0  1500000   300000         0\n",
       "3   4        0  1530000   510000         0\n",
       "4   5        0  2000000   800000         0"
      ]
     },
     "execution_count": 627,
     "metadata": {},
     "output_type": "execute_result"
    }
   ],
   "source": [
    "hw3.head()"
   ]
  },
  {
   "cell_type": "code",
   "execution_count": 628,
   "metadata": {},
   "outputs": [
    {
     "name": "stdout",
     "output_type": "stream",
     "text": [
      "funding     0\n",
      "fv          0\n",
      "shares      0\n",
      "l_buyout    0\n",
      "dtype: int64\n"
     ]
    }
   ],
   "source": [
    "\"\"\"\n",
    "we know that id is not giving any useful information\n",
    "also, we'll check for missing values here\n",
    "\"\"\"\n",
    "\n",
    "hw3 = hw3.drop('id', axis=1)\n",
    "nas = hw3.isnull().sum()\n",
    "print(nas)"
   ]
  },
  {
   "cell_type": "markdown",
   "metadata": {},
   "source": [
    "There are no missing values in this dataset"
   ]
  },
  {
   "cell_type": "code",
   "execution_count": 632,
   "metadata": {},
   "outputs": [],
   "source": [
    "features = hw3.drop('funding', axis=1)\n",
    "target = hw3['funding']"
   ]
  },
  {
   "cell_type": "code",
   "execution_count": 633,
   "metadata": {},
   "outputs": [],
   "source": [
    "X_train, X_test, y_train, y_test = train_test_split(features, target, test_size=0.33, random_state=42)"
   ]
  },
  {
   "cell_type": "code",
   "execution_count": 634,
   "metadata": {},
   "outputs": [
    {
     "name": "stdout",
     "output_type": "stream",
     "text": [
      "<class 'pandas.core.frame.DataFrame'>\n",
      "Int64Index: 322 entries, 157 to 102\n",
      "Data columns (total 3 columns):\n",
      "fv          322 non-null int64\n",
      "shares      322 non-null int64\n",
      "l_buyout    322 non-null int64\n",
      "dtypes: int64(3)\n",
      "memory usage: 10.1 KB\n"
     ]
    }
   ],
   "source": [
    "X_train.info()"
   ]
  },
  {
   "cell_type": "code",
   "execution_count": 635,
   "metadata": {},
   "outputs": [
    {
     "data": {
      "text/html": [
       "<div>\n",
       "<style scoped>\n",
       "    .dataframe tbody tr th:only-of-type {\n",
       "        vertical-align: middle;\n",
       "    }\n",
       "\n",
       "    .dataframe tbody tr th {\n",
       "        vertical-align: top;\n",
       "    }\n",
       "\n",
       "    .dataframe thead th {\n",
       "        text-align: right;\n",
       "    }\n",
       "</style>\n",
       "<table border=\"1\" class=\"dataframe\">\n",
       "  <thead>\n",
       "    <tr style=\"text-align: right;\">\n",
       "      <th></th>\n",
       "      <th>fv</th>\n",
       "      <th>shares</th>\n",
       "      <th>l_buyout</th>\n",
       "    </tr>\n",
       "  </thead>\n",
       "  <tbody>\n",
       "    <tr>\n",
       "      <th>157</th>\n",
       "      <td>13000000</td>\n",
       "      <td>1300000</td>\n",
       "      <td>0</td>\n",
       "    </tr>\n",
       "    <tr>\n",
       "      <th>449</th>\n",
       "      <td>63000000</td>\n",
       "      <td>4500000</td>\n",
       "      <td>1</td>\n",
       "    </tr>\n",
       "    <tr>\n",
       "      <th>118</th>\n",
       "      <td>10103125</td>\n",
       "      <td>1325000</td>\n",
       "      <td>0</td>\n",
       "    </tr>\n",
       "    <tr>\n",
       "      <th>114</th>\n",
       "      <td>9625000</td>\n",
       "      <td>1375000</td>\n",
       "      <td>0</td>\n",
       "    </tr>\n",
       "    <tr>\n",
       "      <th>439</th>\n",
       "      <td>55000000</td>\n",
       "      <td>2500000</td>\n",
       "      <td>0</td>\n",
       "    </tr>\n",
       "  </tbody>\n",
       "</table>\n",
       "</div>"
      ],
      "text/plain": [
       "           fv   shares  l_buyout\n",
       "157  13000000  1300000         0\n",
       "449  63000000  4500000         1\n",
       "118  10103125  1325000         0\n",
       "114   9625000  1375000         0\n",
       "439  55000000  2500000         0"
      ]
     },
     "execution_count": 635,
     "metadata": {},
     "output_type": "execute_result"
    }
   ],
   "source": [
    "X_train.head()"
   ]
  },
  {
   "cell_type": "code",
   "execution_count": 653,
   "metadata": {},
   "outputs": [
    {
     "data": {
      "image/png": "[encoded data removed]",
      "text/plain": [
       "<matplotlib.figure.Figure at 0x7f0143fcc940>"
      ]
     },
     "metadata": {},
     "output_type": "display_data"
    }
   ],
   "source": [
    "sns.pairplot(hw3, vars=hw3.columns)\n",
    "plt.show()"
   ]
  },
  {
   "cell_type": "code",
   "execution_count": 644,
   "metadata": {},
   "outputs": [
    {
     "data": {
      "image/png": "[encoded data removed]",
      "text/plain": [
       "<matplotlib.figure.Figure at 0x7f014520f0b8>"
      ]
     },
     "metadata": {},
     "output_type": "display_data"
    }
   ],
   "source": [
    "fig, axs = plt.subplots(1,3, figsize=(15, 5), facecolor='w', edgecolor='k')\n",
    "fig.subplots_adjust(hspace = .5, wspace=.5)\n",
    "\n",
    "for i,j in enumerate(X_train.columns):\n",
    "    axs[i].hist(X_train[j])\n",
    "    axs[i].set_title(j)"
   ]
  },
  {
   "cell_type": "code",
   "execution_count": 649,
   "metadata": {},
   "outputs": [
    {
     "data": {
      "text/plain": [
       "<matplotlib.axes._subplots.AxesSubplot at 0x7f01443329b0>"
      ]
     },
     "execution_count": 649,
     "metadata": {},
     "output_type": "execute_result"
    },
    {
     "data": {
      "image/png": "[encoded data removed]",
      "text/plain": [
       "<matplotlib.figure.Figure at 0x7f01447f6f28>"
      ]
     },
     "metadata": {},
     "output_type": "display_data"
    }
   ],
   "source": [
    "corr = hw3.corr()\n",
    "mask = np.zeros_like(corr, dtype = np.bool)\n",
    "mask[np.triu_indices_from(mask)] = True\n",
    "plt.subplots(figsize = (10, 10))\n",
    "sns.heatmap(corr, mask = mask, xticklabels = 1, \n",
    "            yticklabels = 1, linewidths = 1, cbar_kws = {\"shrink\": .5})"
   ]
  },
  {
   "cell_type": "markdown",
   "metadata": {},
   "source": [
    "# Inference"
   ]
  },
  {
   "cell_type": "code",
   "execution_count": null,
   "metadata": {},
   "outputs": [],
   "source": []
  },
  {
   "cell_type": "code",
   "execution_count": null,
   "metadata": {},
   "outputs": [],
   "source": []
  },
  {
   "cell_type": "code",
   "execution_count": 654,
   "metadata": {},
   "outputs": [
    {
     "data": {
      "text/html": [
       "<div>\n",
       "<style scoped>\n",
       "    .dataframe tbody tr th:only-of-type {\n",
       "        vertical-align: middle;\n",
       "    }\n",
       "\n",
       "    .dataframe tbody tr th {\n",
       "        vertical-align: top;\n",
       "    }\n",
       "\n",
       "    .dataframe thead th {\n",
       "        text-align: right;\n",
       "    }\n",
       "</style>\n",
       "<table border=\"1\" class=\"dataframe\">\n",
       "  <thead>\n",
       "    <tr style=\"text-align: right;\">\n",
       "      <th></th>\n",
       "      <th>fv</th>\n",
       "      <th>shares</th>\n",
       "      <th>l_buyout</th>\n",
       "    </tr>\n",
       "  </thead>\n",
       "  <tbody>\n",
       "    <tr>\n",
       "      <th>157</th>\n",
       "      <td>13000000</td>\n",
       "      <td>1300000</td>\n",
       "      <td>0</td>\n",
       "    </tr>\n",
       "    <tr>\n",
       "      <th>449</th>\n",
       "      <td>63000000</td>\n",
       "      <td>4500000</td>\n",
       "      <td>1</td>\n",
       "    </tr>\n",
       "    <tr>\n",
       "      <th>118</th>\n",
       "      <td>10103125</td>\n",
       "      <td>1325000</td>\n",
       "      <td>0</td>\n",
       "    </tr>\n",
       "    <tr>\n",
       "      <th>114</th>\n",
       "      <td>9625000</td>\n",
       "      <td>1375000</td>\n",
       "      <td>0</td>\n",
       "    </tr>\n",
       "    <tr>\n",
       "      <th>439</th>\n",
       "      <td>55000000</td>\n",
       "      <td>2500000</td>\n",
       "      <td>0</td>\n",
       "    </tr>\n",
       "  </tbody>\n",
       "</table>\n",
       "</div>"
      ],
      "text/plain": [
       "           fv   shares  l_buyout\n",
       "157  13000000  1300000         0\n",
       "449  63000000  4500000         1\n",
       "118  10103125  1325000         0\n",
       "114   9625000  1375000         0\n",
       "439  55000000  2500000         0"
      ]
     },
     "execution_count": 654,
     "metadata": {},
     "output_type": "execute_result"
    }
   ],
   "source": [
    "X_train.head()"
   ]
  },
  {
   "cell_type": "markdown",
   "metadata": {},
   "source": [
    "## 6 B"
   ]
  },
  {
   "cell_type": "code",
   "execution_count": null,
   "metadata": {},
   "outputs": [],
   "source": [
    "X_train['capital'] = np.log(X_train['face_value'] * X_train['n_shares'])\n",
    "X_validate['capital'] = np.log(X_validate['face_value'] * X_validate['n_shares'])\n",
    "X_test['capital'] = np.log(X_test['face_value'] * X_test['n_shares'])\n",
    "\n",
    "X_train['fvl'] = np.log(X_train.face_value)\n",
    "X_train['nsl'] = np.log(X_train.n_shares)\n",
    "\n",
    "X_validate['fvl'] = np.log(X_validate.face_value)\n",
    "X_validate['nsl'] = np.log(X_validate.n_shares)\n",
    "\n",
    "X_test['fvl'] = np.log(X_test.face_value)\n",
    "X_test['nsl'] = np.log(X_test.n_shares)\n"
   ]
  },
  {
   "cell_type": "markdown",
   "metadata": {},
   "source": [
    "The first thing to try is the log value of the two features which have a positively skewed distr."
   ]
  },
  {
   "cell_type": "code",
   "execution_count": 660,
   "metadata": {},
   "outputs": [
    {
     "name": "stderr",
     "output_type": "stream",
     "text": [
      "/opt/conda/lib/python3.6/site-packages/ipykernel_launcher.py:4: SettingWithCopyWarning: \n",
      "A value is trying to be set on a copy of a slice from a DataFrame.\n",
      "Try using .loc[row_indexer,col_indexer] = value instead\n",
      "\n",
      "See the caveats in the documentation: http://pandas.pydata.org/pandas-docs/stable/indexing.html#indexing-view-versus-copy\n",
      "  after removing the cwd from sys.path.\n",
      "/opt/conda/lib/python3.6/site-packages/ipykernel_launcher.py:5: SettingWithCopyWarning: \n",
      "A value is trying to be set on a copy of a slice from a DataFrame.\n",
      "Try using .loc[row_indexer,col_indexer] = value instead\n",
      "\n",
      "See the caveats in the documentation: http://pandas.pydata.org/pandas-docs/stable/indexing.html#indexing-view-versus-copy\n",
      "  \"\"\"\n"
     ]
    }
   ],
   "source": [
    "X_train['fv_log'] = np.log(X_train['fv'])\n",
    "X_test['fv_log'] = np.log(X_test['fv'])\n",
    "X_train['shares_log'] = np.log(X_train['shares'])\n",
    "X_test['shares_log'] = np.log(X_test['shares'])"
   ]
  },
  {
   "cell_type": "code",
   "execution_count": 710,
   "metadata": {},
   "outputs": [],
   "source": [
    "# method to print basic metrics of a classifier\n",
    "def print_metrics(y_test, y_hat):\n",
    "    print(\"Accuracy of model is \", metrics.accuracy_score(y_test, y_hat))\n",
    "    print(\"Precision of model is \", metrics.precision_score(y_test, y_hat))\n",
    "    print(\"Recall of model is \", metrics.recall_score(y_test, y_hat))\n",
    "    print(\"Confusion matrix\\n\", metrics.confusion_matrix(y_test, y_hat))\n",
    "\n",
    "# method to plot AUC\n",
    "def plot_roc_auc(model, X_test):\n",
    "    y_hat_probabilities = model.predict_proba(X_test)[::,1]\n",
    "    fpr, tpr, _ = metrics.roc_curve(y_test,  y_hat_probabilities)\n",
    "    auc = metrics.roc_auc_score(y_test, y_hat_probabilities)\n",
    "    plt.plot(fpr,tpr,label=\"data 1, auc=\"+str(auc))\n",
    "    plt.legend(loc=4)\n",
    "    plt.show()"
   ]
  },
  {
   "cell_type": "code",
   "execution_count": 711,
   "metadata": {},
   "outputs": [
    {
     "name": "stdout",
     "output_type": "stream",
     "text": [
      "Accuracy of model is  0.5625\n",
      "Precision of model is  0.43333333333333335\n",
      "Recall of model is  0.41935483870967744\n",
      "Confusion matrix\n",
      " [[64 34]\n",
      " [36 26]]\n"
     ]
    }
   ],
   "source": [
    "lr = LogisticRegression()\n",
    "lr.fit(X_train[['fv_log', 'shares_log', 'l_buyout']], y_train)\n",
    "\n",
    "y_hat = lr.predict(X_test[['fv_log', 'shares_log', 'l_buyout']])\n",
    "print_metrics(y_test, y_hat)"
   ]
  },
  {
   "cell_type": "markdown",
   "metadata": {},
   "source": [
    "So, that's an okayish accuracy. We just tried all variables we thought would work. Let's try plotting the Area under curve."
   ]
  },
  {
   "cell_type": "code",
   "execution_count": 712,
   "metadata": {},
   "outputs": [
    {
     "data": {
      "image/png": "[encoded data removed]",
      "text/plain": [
       "<matplotlib.figure.Figure at 0x7f0145422da0>"
      ]
     },
     "metadata": {},
     "output_type": "display_data"
    }
   ],
   "source": [
    "plot_roc_auc(lr, X_test[['fv_log', 'shares_log', 'l_buyout']])"
   ]
  },
  {
   "cell_type": "code",
   "execution_count": null,
   "metadata": {},
   "outputs": [],
   "source": []
  },
  {
   "cell_type": "code",
   "execution_count": null,
   "metadata": {},
   "outputs": [],
   "source": []
  },
  {
   "cell_type": "markdown",
   "metadata": {},
   "source": [
    "Let's try more feature transformation. Since face_value and number of shares are highly correlated in stock market, it's worth trying. Moreover, there's no point in using two highly correlated features in building a model. the correlation between them is greater than 0.8. I will multiply them and then take a log over the multiplied quantity."
   ]
  },
  {
   "cell_type": "code",
   "execution_count": 713,
   "metadata": {},
   "outputs": [
    {
     "name": "stderr",
     "output_type": "stream",
     "text": [
      "/opt/conda/lib/python3.6/site-packages/ipykernel_launcher.py:4: SettingWithCopyWarning: \n",
      "A value is trying to be set on a copy of a slice from a DataFrame.\n",
      "Try using .loc[row_indexer,col_indexer] = value instead\n",
      "\n",
      "See the caveats in the documentation: http://pandas.pydata.org/pandas-docs/stable/indexing.html#indexing-view-versus-copy\n",
      "  after removing the cwd from sys.path.\n"
     ]
    }
   ],
   "source": [
    "# All the values are greater than 0 so no need to do log(p+1) as shown in class.\n",
    "\n",
    "X_train['stock_value'] = np.log((X_train['fv'] * X_train['shares']))\n",
    "X_test['stock_value'] = np.log((X_test['fv'] * X_test['shares']))"
   ]
  },
  {
   "cell_type": "code",
   "execution_count": 714,
   "metadata": {},
   "outputs": [
    {
     "name": "stdout",
     "output_type": "stream",
     "text": [
      "Accuracy of model is  0.55625\n",
      "Precision of model is  0.0\n",
      "Recall of model is  0.0\n",
      "Confusion matrix\n",
      " [[89  9]\n",
      " [62  0]]\n"
     ]
    }
   ],
   "source": [
    "lr = LogisticRegression()\n",
    "lr.fit(X_train[['stock_value', 'l_buyout']], y_train)\n",
    "\n",
    "y_hat = lr.predict(X_test[['stock_value', 'l_buyout']])\n",
    "print_metrics(y_test, y_hat)"
   ]
  },
  {
   "cell_type": "code",
   "execution_count": 715,
   "metadata": {},
   "outputs": [
    {
     "data": {
      "image/png": "[encoded data removed]",
      "text/plain": [
       "<matplotlib.figure.Figure at 0x7f01450575f8>"
      ]
     },
     "metadata": {},
     "output_type": "display_data"
    }
   ],
   "source": [
    "plot_roc_auc(lr, X_test[['stock_value', 'l_buyout']])"
   ]
  },
  {
   "cell_type": "markdown",
   "metadata": {},
   "source": [
    "Didn't give a significant improvement. Logistic regression has different solver so will try a different solver."
   ]
  },
  {
   "cell_type": "code",
   "execution_count": 736,
   "metadata": {},
   "outputs": [
    {
     "name": "stdout",
     "output_type": "stream",
     "text": [
      "Accuracy of model is  0.55\n",
      "Precision of model is  0.4074074074074074\n",
      "Recall of model is  0.3548387096774194\n",
      "Confusion matrix\n",
      " [[66 32]\n",
      " [40 22]]\n"
     ]
    }
   ],
   "source": [
    "lr = LogisticRegression(solver='lbfgs')\n",
    "lr.fit(X_train[['stock_value', 'l_buyout']], y_train)\n",
    "\n",
    "y_hat = lr.predict(X_test[['stock_value', 'l_buyout']])\n",
    "print_metrics(y_test, y_hat)"
   ]
  },
  {
   "cell_type": "code",
   "execution_count": 717,
   "metadata": {},
   "outputs": [
    {
     "data": {
      "image/png": "[encoded data removed]",
      "text/plain": [
       "<matplotlib.figure.Figure at 0x7f014adbb588>"
      ]
     },
     "metadata": {},
     "output_type": "display_data"
    }
   ],
   "source": [
    "plot_roc_auc(lr, X_test[['stock_value', 'l_buyout']])"
   ]
  },
  {
   "cell_type": "markdown",
   "metadata": {},
   "source": [
    "Though it didn't improve significantly, it is definitely better than the previous model."
   ]
  },
  {
   "cell_type": "markdown",
   "metadata": {},
   "source": [
    "## 6 C"
   ]
  },
  {
   "cell_type": "markdown",
   "metadata": {},
   "source": [
    "Now, we try another kind of classifier- LDA. Again following a similar approach, let's start with all features and slowly narrow down to the ones which we found useful from our logistic regression model."
   ]
  },
  {
   "cell_type": "code",
   "execution_count": 718,
   "metadata": {},
   "outputs": [
    {
     "name": "stdout",
     "output_type": "stream",
     "text": [
      "Accuracy of model is  0.575\n",
      "Precision of model is  0.45\n",
      "Recall of model is  0.43548387096774194\n",
      "Confusion matrix\n",
      " [[65 33]\n",
      " [35 27]]\n"
     ]
    }
   ],
   "source": [
    "lda = sklearn_lda()\n",
    "lda.fit(X_train[['fv_log', 'shares_log', 'l_buyout']], y_train)\n",
    "\n",
    "y_hat = lda.predict(X_test[['fv_log', 'shares_log', 'l_buyout']])\n",
    "print_metrics(y_test, y_hat)"
   ]
  },
  {
   "cell_type": "markdown",
   "metadata": {},
   "source": [
    "Now, trying the enhanced version:"
   ]
  },
  {
   "cell_type": "code",
   "execution_count": 719,
   "metadata": {},
   "outputs": [
    {
     "name": "stdout",
     "output_type": "stream",
     "text": [
      "Accuracy of model is  0.55\n",
      "Precision of model is  0.4074074074074074\n",
      "Recall of model is  0.3548387096774194\n",
      "Confusion matrix\n",
      " [[66 32]\n",
      " [40 22]]\n"
     ]
    }
   ],
   "source": [
    "lda = sklearn_lda()\n",
    "lda.fit(X_train[['stock_value', 'l_buyout']], y_train)\n",
    "\n",
    "y_hat = lda.predict(X_test[['stock_value', 'l_buyout']])\n",
    "print_metrics(y_test, y_hat)"
   ]
  },
  {
   "cell_type": "code",
   "execution_count": 720,
   "metadata": {},
   "outputs": [
    {
     "data": {
      "image/png": "[encoded data removed]",
      "text/plain": [
       "<matplotlib.figure.Figure at 0x7f0145046780>"
      ]
     },
     "metadata": {},
     "output_type": "display_data"
    }
   ],
   "source": [
    "plot_roc_auc(lda, X_test[['stock_value', 'l_buyout']])"
   ]
  },
  {
   "cell_type": "code",
   "execution_count": 731,
   "metadata": {},
   "outputs": [
    {
     "name": "stdout",
     "output_type": "stream",
     "text": [
      "Accuracy of model is  0.55\n",
      "Precision of model is  0.4074074074074074\n",
      "Recall of model is  0.3548387096774194\n",
      "Confusion matrix\n",
      " [[66 32]\n",
      " [40 22]]\n"
     ]
    }
   ],
   "source": [
    "lda = sklearn_lda(solver='svd')\n",
    "lda.fit(X_train[['stock_value', 'l_buyout']], y_train)\n",
    "\n",
    "y_hat = lda.predict(X_test[['stock_value', 'l_buyout']])\n",
    "print_metrics(y_test, y_hat)"
   ]
  },
  {
   "cell_type": "code",
   "execution_count": 732,
   "metadata": {},
   "outputs": [
    {
     "data": {
      "image/png": "[encoded data removed]",
      "text/plain": [
       "<matplotlib.figure.Figure at 0x7f0145603828>"
      ]
     },
     "metadata": {},
     "output_type": "display_data"
    }
   ],
   "source": [
    "plot_roc_auc(lda, X_test[['stock_value', 'l_buyout']])"
   ]
  },
  {
   "cell_type": "markdown",
   "metadata": {},
   "source": [
    "Let's even test the training accuracy of our model"
   ]
  },
  {
   "cell_type": "code",
   "execution_count": 723,
   "metadata": {},
   "outputs": [
    {
     "name": "stdout",
     "output_type": "stream",
     "text": [
      "Accuracy of model is  0.5807453416149069\n",
      "Precision of model is  0.5619834710743802\n",
      "Recall of model is  0.4533333333333333\n",
      "Confusion matrix\n",
      " [[119  53]\n",
      " [ 82  68]]\n"
     ]
    }
   ],
   "source": [
    "y_hat_train = lda.predict(X_train[['stock_value', 'l_buyout']])\n",
    "print_metrics(y_train, y_hat_train)"
   ]
  },
  {
   "cell_type": "markdown",
   "metadata": {},
   "source": [
    "Here, we observe again that feature transformation provides better AUC compared to fitting the model on the original features. However, changing solver here didn't make any difference."
   ]
  },
  {
   "cell_type": "markdown",
   "metadata": {},
   "source": [
    "## 6 D"
   ]
  },
  {
   "cell_type": "markdown",
   "metadata": {},
   "source": [
    "Let's try finding training accuracies:  \n",
    "a) Logistic regression"
   ]
  },
  {
   "cell_type": "code",
   "execution_count": 725,
   "metadata": {},
   "outputs": [
    {
     "name": "stdout",
     "output_type": "stream",
     "text": [
      "Accuracy of model is  0.5745341614906833\n",
      "Precision of model is  0.5546218487394958\n",
      "Recall of model is  0.44\n",
      "Confusion matrix\n",
      " [[119  53]\n",
      " [ 84  66]]\n"
     ]
    },
    {
     "data": {
      "image/png": "[encoded data removed]",
      "text/plain": [
       "<matplotlib.figure.Figure at 0x7f014506e860>"
      ]
     },
     "metadata": {},
     "output_type": "display_data"
    }
   ],
   "source": [
    "lr = LogisticRegression(solver='lbfgs')\n",
    "lr.fit(X_train[['stock_value', 'l_buyout']], y_train)\n",
    "\n",
    "y_hat_train = lr.predict(X_train[['stock_value', 'l_buyout']])\n",
    "print_metrics(y_train, y_hat_train)\n",
    "\n",
    "y_hat_probabilities = lr.predict_proba(X_train[['stock_value', 'l_buyout']])[::,1]\n",
    "fpr, tpr, _ = metrics.roc_curve(y_train,  y_hat_probabilities)\n",
    "auc = metrics.roc_auc_score(y_train, y_hat_probabilities)\n",
    "plt.plot(fpr,tpr,label=\"data 1, auc=\"+str(auc))\n",
    "plt.legend(loc=4)\n",
    "plt.show()"
   ]
  },
  {
   "cell_type": "code",
   "execution_count": 727,
   "metadata": {},
   "outputs": [
    {
     "name": "stdout",
     "output_type": "stream",
     "text": [
      "Accuracy of model is  0.5838509316770186\n",
      "Precision of model is  0.5634920634920635\n",
      "Recall of model is  0.47333333333333333\n",
      "Confusion matrix\n",
      " [[117  55]\n",
      " [ 79  71]]\n"
     ]
    },
    {
     "data": {
      "image/png": "[encoded data removed]",
      "text/plain": [
       "<matplotlib.figure.Figure at 0x7f0143f13518>"
      ]
     },
     "metadata": {},
     "output_type": "display_data"
    }
   ],
   "source": [
    "lr = LogisticRegression(solver='lbfgs')\n",
    "lr.fit(X_train[['fv_log', 'l_buyout', 'shares_log']], y_train)\n",
    "\n",
    "y_hat_train = lr.predict(X_train[['fv_log', 'l_buyout', 'shares_log']])\n",
    "print_metrics(y_train, y_hat_train)\n",
    "\n",
    "y_hat_probabilities = lr.predict_proba(X_train[['fv_log', 'l_buyout', 'shares_log']])[::,1]\n",
    "fpr, tpr, _ = metrics.roc_curve(y_train,  y_hat_probabilities)\n",
    "auc = metrics.roc_auc_score(y_train, y_hat_probabilities)\n",
    "plt.plot(fpr,tpr,label=\"data 1, auc=\"+str(auc))\n",
    "plt.legend(loc=4)\n",
    "plt.show()"
   ]
  },
  {
   "cell_type": "markdown",
   "metadata": {},
   "source": [
    "b) Linear Discriminant Analysis"
   ]
  },
  {
   "cell_type": "code",
   "execution_count": 737,
   "metadata": {},
   "outputs": [
    {
     "name": "stdout",
     "output_type": "stream",
     "text": [
      "Accuracy of model is  0.5807453416149069\n",
      "Precision of model is  0.5619834710743802\n",
      "Recall of model is  0.4533333333333333\n",
      "Confusion matrix\n",
      " [[119  53]\n",
      " [ 82  68]]\n"
     ]
    },
    {
     "data": {
      "image/png": "[encoded data removed]",
      "text/plain": [
       "<matplotlib.figure.Figure at 0x7f01452a2b38>"
      ]
     },
     "metadata": {},
     "output_type": "display_data"
    }
   ],
   "source": [
    "lda = sklearn_lda(solver='svd')\n",
    "lda.fit(X_train[['stock_value', 'l_buyout']], y_train)\n",
    "\n",
    "y_hat_train = lda.predict(X_train[['stock_value', 'l_buyout']])\n",
    "print_metrics(y_train, y_hat_train)\n",
    "\n",
    "y_hat_probabilities = lda.predict_proba(X_train[['stock_value', 'l_buyout']])[::,1]\n",
    "fpr, tpr, _ = metrics.roc_curve(y_train,  y_hat_probabilities)\n",
    "auc = metrics.roc_auc_score(y_train, y_hat_probabilities)\n",
    "plt.plot(fpr,tpr,label=\"data 1, auc=\"+str(auc))\n",
    "plt.legend(loc=4)\n",
    "plt.show()"
   ]
  },
  {
   "cell_type": "code",
   "execution_count": 738,
   "metadata": {},
   "outputs": [
    {
     "name": "stdout",
     "output_type": "stream",
     "text": [
      "Accuracy of model is  0.5900621118012422\n",
      "Precision of model is  0.5671641791044776\n",
      "Recall of model is  0.5066666666666667\n",
      "Confusion matrix\n",
      " [[114  58]\n",
      " [ 74  76]]\n"
     ]
    },
    {
     "data": {
      "image/png": "[encoded data removed]",
      "text/plain": [
       "<matplotlib.figure.Figure at 0x7f0145342ac8>"
      ]
     },
     "metadata": {},
     "output_type": "display_data"
    }
   ],
   "source": [
    "lda = sklearn_lda(solver='svd')\n",
    "lda.fit(X_train[['fv_log', 'l_buyout', 'shares_log']], y_train)\n",
    "\n",
    "y_hat_train = lda.predict(X_train[['fv_log', 'l_buyout', 'shares_log']])\n",
    "print_metrics(y_train, y_hat_train)\n",
    "\n",
    "y_hat_probabilities = lda.predict_proba(X_train[['fv_log', 'l_buyout', 'shares_log']])[::,1]\n",
    "fpr, tpr, _ = metrics.roc_curve(y_train,  y_hat_probabilities)\n",
    "auc = metrics.roc_auc_score(y_train, y_hat_probabilities)\n",
    "plt.plot(fpr,tpr,label=\"data 1, auc=\"+str(auc))\n",
    "plt.legend(loc=4)\n",
    "plt.show()"
   ]
  },
  {
   "cell_type": "markdown",
   "metadata": {},
   "source": [
    "Here I tested out traning accuracies in my model."
   ]
  },
  {
   "cell_type": "code",
   "execution_count": null,
   "metadata": {},
   "outputs": [],
   "source": []
  }
 ],
 "metadata": {
  "kernelspec": {
   "display_name": "Python 3",
   "language": "python",
   "name": "python3"
  },
  "language_info": {
   "codemirror_mode": {
    "name": "ipython",
    "version": 3
   },
   "file_extension": ".py",
   "mimetype": "text/x-python",
   "name": "python",
   "nbconvert_exporter": "python",
   "pygments_lexer": "ipython3",
   "version": "3.6.4"
  }
 },
 "nbformat": 4,
 "nbformat_minor": 2
}
